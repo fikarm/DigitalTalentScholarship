{
 "cells": [
  {
   "cell_type": "markdown",
   "metadata": {
    "colab_type": "text",
    "id": "wFw4FpR_LDGt"
   },
   "source": [
    "<a href=\"https://cognitiveclass.ai/\">\n",
    "    <img src=\"https://s3-api.us-geo.objectstorage.softlayer.net/cf-courses-data/CognitiveClass/PY0101EN/Ad/CCLog.png\" width=\"200\" align=\"center\">\n",
    "</a>"
   ]
  },
  {
   "cell_type": "markdown",
   "metadata": {
    "colab_type": "text",
    "id": "IAakrCfpLDGu"
   },
   "source": [
    "<h1>Classes dan Objects pada Python</h1>"
   ]
  },
  {
   "cell_type": "markdown",
   "metadata": {
    "colab_type": "text",
    "id": "4O2fshoaLDGw"
   },
   "source": [
    "<p>\n",
    "    <strong>Selamat Datang!</strong> \n",
    "  Objek pada pemrograman seperti halnya objek pada kehidupan nyata. Seperti dalam hidup, ada perbedaan kelas dari objek. Pada notebook ini, kita akan membuat dua kelas yang disebut dengan Circle dan Rectangle. Akhir dari notebook ini, Anda akan memiliki gagasan tentang:\n",
    "    <ul>\n",
    "        <li>apa itu kelas</li>\n",
    "        <li>apa itu atribut</li>\n",
    "        <li>apa itu method (metode)</li>\n",
    "    </ul>\n",
    "\n",
    "   Jangan khawatir jika Anda belum pernah menjumpainya, karena banyak terminologinya yang membingungkan. Jangan lupa untuk melakukan latihan pada notebook ini.\n",
    "</p>"
   ]
  },
  {
   "cell_type": "markdown",
   "metadata": {
    "colab_type": "text",
    "id": "HDP5kkV-LDGx"
   },
   "source": [
    "<h2>Daftar Isi</h2>\n",
    "<div class=\"alert alert-block alert-info\" style=\"margin-top: 20px\">\n",
    "    <ul>\n",
    "        <li>\n",
    "            <a href=\"#intro\">Pengenalan Kelas dan Objek</a>\n",
    "            <ul>\n",
    "                <li><a href=\"create\">Membuat kelas</a></li>\n",
    "                <li><a href=\"instance\">Instances dari Kelas: Objek dan Atribut</a></li>\n",
    "                <li><a href=\"method\">Method</a></li>\n",
    "            </ul>\n",
    "        </li>\n",
    "        <li><a href=\"creating\">Membuat kelas</a></li>\n",
    "        <li><a href=\"circle\">Membuat instance dari kelas Lingkaran</a></li>\n",
    "        <li><a href=\"rect\">Kelas Persegi</a></li>\n",
    "    </ul>\n",
    "    <p>\n",
    "        Prakiraan waktu yang dibutuhkan: <strong>40 min</strong>\n",
    "    </p>\n",
    "</div>\n",
    "\n",
    "<hr>"
   ]
  },
  {
   "cell_type": "markdown",
   "metadata": {
    "colab_type": "text",
    "id": "1QG2RsV3LDGy"
   },
   "source": [
    "<h2 id=\"intro\">Pengenalan Kelas dan Objek</h2>"
   ]
  },
  {
   "cell_type": "markdown",
   "metadata": {
    "colab_type": "text",
    "id": "KYXuhub5LDG0"
   },
   "source": [
    "<h3>Membuat sebuah Kelas</h3>"
   ]
  },
  {
   "cell_type": "markdown",
   "metadata": {
    "colab_type": "text",
    "id": "QNnQzM-qLDG1"
   },
   "source": [
    "Bagian pertama dari pembuatan kelas adalah memberinya nama: Pada notebook ini, kita akan membuat dua kelas, Circle (Lingkaran) dan Rectangle (Persegi). Kita harus menentukan semua data dalam membangun kelas, dan kita panggil itu atribut. Pikirkan tentang langkah ini seperti membuat blue print yang akan kita gunakan untuk membuat objek. Pada Figure 1 kita lihat dua kelas, circle dan rectangle. Tiap kelas memiliki atributnya, mereka adalah variabel. Kelas circle memiliki atribut radius dan color, sedangkan rectangle memiliki atribut height dan width. Mari gunakan contoh visual dari bentuk ini sebelum kita lanjut ke kode, karena ini akan membantu membiasakan diri Anda."
   ]
  },
  {
   "cell_type": "markdown",
   "metadata": {
    "colab_type": "text",
    "id": "oyEdgIibLDG2"
   },
   "source": [
    "<img src=\"https://s3-api.us-geo.objectstorage.softlayer.net/cf-courses-data/CognitiveClass/PY0101EN/Chapter%203/Images/ClassesClass.png\" width=\"500\" />"
   ]
  },
  {
   "cell_type": "markdown",
   "metadata": {
    "colab_type": "text",
    "id": "o7m74PpKLDG4"
   },
   "source": [
    "<i>Figure 1: Kelas circle dan rectangle, dan tiap-tiap kelas tersebut memiliki atribut. Kelas circle memiliki atribut radius dan colour, rectangle memiliki atribut height dan width.</i>\n"
   ]
  },
  {
   "cell_type": "markdown",
   "metadata": {
    "colab_type": "text",
    "id": "MgpiEe0ULDG5"
   },
   "source": [
    "<h3 id=\"instance\">Instances dari Kelas: Objek dan Atribut</h3>"
   ]
  },
  {
   "cell_type": "markdown",
   "metadata": {
    "colab_type": "text",
    "id": "8--POPfzLDG6"
   },
   "source": [
    "Sebuah instances dari objek adalah realisasi dari kelas, pada Figure 2 kita lihat ada tiga instances dari kelas circle. Kita beri tiap objek sebuah nama: red circle, yellow circle, dan green circle. Tiap objek memiliki atribut berbeda, jadi fokus pada atribut color untuk tiap objek."
   ]
  },
  {
   "cell_type": "markdown",
   "metadata": {
    "colab_type": "text",
    "id": "8aM945dULDG8"
   },
   "source": [
    "<img src=\"https://s3-api.us-geo.objectstorage.softlayer.net/cf-courses-data/CognitiveClass/PY0101EN/Chapter%203/Images/ClassesObj.png\" width=\"500\" />"
   ]
  },
  {
   "cell_type": "markdown",
   "metadata": {
    "colab_type": "text",
    "id": "XYUBBF7NLDG9"
   },
   "source": [
    "<i>Figure 2: Tiga instances dari kelas circle atau tiga objek dari lingkaran.</i>"
   ]
  },
  {
   "cell_type": "markdown",
   "metadata": {
    "colab_type": "text",
    "id": "2uvQ9ZM9LDG9"
   },
   "source": [
    " The colour attribute for the red circle is the colour red, for the green circle object the colour attribute is green, and for the yellow circle the colour attribute is yellow.   \n"
   ]
  },
  {
   "cell_type": "markdown",
   "metadata": {
    "colab_type": "text",
    "id": "qO835Hq9LDG-"
   },
   "source": [
    "<h3 id=\"method\">Methods</h3>"
   ]
  },
  {
   "cell_type": "markdown",
   "metadata": {
    "colab_type": "text",
    "id": "tMsRirpNLDG_"
   },
   "source": [
    "Methods memberi Anda cara untuk mengubah atau berinteraksi dengan objek; mereka adalah fungsi yang berinteraksi dengan objek. Sebagai contoh, katakan kita akan meningkatkan radius dengan nilai yang spesifik dari lingkaran. Kita dapat membuat method yang dipanggil **add_radius(r)** yang meningkatkan radius dengan **r**. Hal ini ditunjukkan pada Figure 3, dimana setelah menerapkan method untuk \"objek lingkaran oranye\", radius dari objek ditingkatkan sesudai dengan nilai yang dimasukkan. Notasi \"dot\" berarti untuk menerapkan method ke objek, dimana secara esensial menerapkan fungsi terhadap informasi dari objek."
   ]
  },
  {
   "cell_type": "markdown",
   "metadata": {
    "colab_type": "text",
    "id": "8iHYMEETLDHA"
   },
   "source": [
    "<img src=\"https://s3-api.us-geo.objectstorage.softlayer.net/cf-courses-data/CognitiveClass/PY0101EN/Chapter%203/Images/ClassesMethod.png\" width=\"500\" /> "
   ]
  },
  {
   "cell_type": "markdown",
   "metadata": {
    "colab_type": "text",
    "id": "32m6VQUsLDHB"
   },
   "source": [
    "<i>Figure 3: Menerapkan method “add_radius” pada objek lingkaran orange circle.</i>"
   ]
  },
  {
   "cell_type": "markdown",
   "metadata": {
    "colab_type": "text",
    "id": "KX9Uym9hLDHD"
   },
   "source": [
    "<hr>"
   ]
  },
  {
   "cell_type": "markdown",
   "metadata": {
    "colab_type": "text",
    "id": "vksjQOscLDHD"
   },
   "source": [
    "<h2 id=\"creating\">Membuat sebuah Kelas</h2>"
   ]
  },
  {
   "cell_type": "markdown",
   "metadata": {
    "colab_type": "text",
    "id": "tCSz7Z3DLDHE"
   },
   "source": [
    "Sekarang kita akan membuat sebuah kelas circle, tapi pertama kita akan import sebuah library untuk menggambarkan objek:"
   ]
  },
  {
   "cell_type": "code",
   "execution_count": 0,
   "metadata": {
    "colab": {},
    "colab_type": "code",
    "id": "fMylmLw4LDHF"
   },
   "outputs": [],
   "source": [
    "# Import library\n",
    "\n",
    "import matplotlib.pyplot as plt\n",
    "%matplotlib inline  "
   ]
  },
  {
   "cell_type": "markdown",
   "metadata": {
    "colab_type": "text",
    "id": "uI4CctGLLDHJ"
   },
   "source": [
    "  Langkah pertama dalam membuat kelas adalah menggunakan kata kunci <code>class</code>, kemudian nama dari kelas ditunjukkan pada Figure 4. Pada latihan ini kelas parent akan di selalu menjadi objek:"
   ]
  },
  {
   "cell_type": "markdown",
   "metadata": {
    "colab_type": "text",
    "id": "NDXXc3hqLDHK"
   },
   "source": [
    "<img src=\"https://s3-api.us-geo.objectstorage.softlayer.net/cf-courses-data/CognitiveClass/PY0101EN/Chapter%203/Images/ClassesDefine.png\" width=\"400\" />"
   ]
  },
  {
   "cell_type": "markdown",
   "metadata": {
    "colab_type": "text",
    "id": "cDGXl8dTLDHL"
   },
   "source": [
    "<i>Figure 4: Tiga instances dari kelas circle atau tiga objek dari circle.</i>"
   ]
  },
  {
   "cell_type": "markdown",
   "metadata": {
    "colab_type": "text",
    "id": "vyC-_HuFLDHM"
   },
   "source": [
    "Langkah selanjutnya adalah method spesial dipanggil konstruktor  <code>&#95;&#95;init&#95;&#95;</code>, dimana digunakan untuk inisialisasi objek. Inputannya adalah atribut data. Istilah <code>self</code> mengandung semua atribut didalamnya. Contohnya <code>self.color</code> memberikan nilai atribut warna dan <code>self.radius</code> akan memberikan nilai radius dari objek. Kita juga memiliki method <code>add_radius()</code> dengan parameter <code>r</code>, method tersebut menambahkan nilai dari <code>r</code> ke atribut radius. Untuk mengakses radius kita gunakan sintaks <code>self.radius</code>. Sintaks yang diberi label disimpulkan pada Figure 5."
   ]
  },
  {
   "cell_type": "markdown",
   "metadata": {
    "colab_type": "text",
    "id": "5uJMGXaYLDHO"
   },
   "source": [
    "<img src=\"https://s3-api.us-geo.objectstorage.softlayer.net/cf-courses-data/CognitiveClass/PY0101EN/Chapter%203/Images/ClassesCircle.png\" width=\"600\" />"
   ]
  },
  {
   "cell_type": "markdown",
   "metadata": {
    "colab_type": "text",
    "id": "PAChaLszLDHP"
   },
   "source": [
    "<i>Figure 5: Sintaks yang diberi label dari objek circle.</i>"
   ]
  },
  {
   "cell_type": "markdown",
   "metadata": {
    "colab_type": "text",
    "id": "Jlq_7aF4LDHR"
   },
   "source": [
    "Objek sebenarnya ditunjukkan berikut. Kita masukkan method <code>drawCircle</code> untuk menampilkan gambar dari lingkaran. Kita atur radius deafultnya menjadi 3 dan warna defaultnya adalah biru:"
   ]
  },
  {
   "cell_type": "code",
   "execution_count": 0,
   "metadata": {
    "colab": {},
    "colab_type": "code",
    "id": "mIGWLSSqLDHS"
   },
   "outputs": [],
   "source": [
    "# Membuat kelas Circle\n",
    "\n",
    "class Circle(object):\n",
    "    \n",
    "    # Constructor\n",
    "    def __init__(self, radius=3, color='blue'):\n",
    "        self.radius = radius\n",
    "        self.color = color \n",
    "    \n",
    "    # Method\n",
    "    def add_radius(self, r):\n",
    "        self.radius = self.radius + r\n",
    "        return(self.radius)\n",
    "    \n",
    "    # Method\n",
    "    def drawCircle(self):\n",
    "        plt.gca().add_patch(plt.Circle((0, 0), radius=self.radius, fc=self.color))\n",
    "        plt.axis('scaled')\n",
    "        plt.show()  "
   ]
  },
  {
   "cell_type": "markdown",
   "metadata": {
    "colab_type": "text",
    "id": "RVmYOyA7LDHW"
   },
   "source": [
    "<hr>"
   ]
  },
  {
   "cell_type": "markdown",
   "metadata": {
    "colab_type": "text",
    "id": "_vWQucVdLDHW"
   },
   "source": [
    "<h2 id=\"circle\">Membuat instance dari kelas Circle</h2>"
   ]
  },
  {
   "cell_type": "markdown",
   "metadata": {
    "colab_type": "text",
    "id": "rxGATQrlLDHX"
   },
   "source": [
    "Buat objek <code>RedCircle</code> dari Circle untuk melakukan:"
   ]
  },
  {
   "cell_type": "code",
   "execution_count": 0,
   "metadata": {
    "colab": {},
    "colab_type": "code",
    "id": "_g_IAFw2LDHY"
   },
   "outputs": [],
   "source": [
    "# Buat sebuah objek RedCircle\n",
    "\n",
    "RedCircle = Circle(10, 'red')"
   ]
  },
  {
   "cell_type": "markdown",
   "metadata": {
    "colab_type": "text",
    "id": "TM7GSZnFLDHa"
   },
   "source": [
    "Kita dapat gunakan perintah <code>dir</code> untuk mendapatkan sebuah list dari method objek. Banyak darinya adalah method bawaan dari Python."
   ]
  },
  {
   "cell_type": "code",
   "execution_count": 0,
   "metadata": {
    "colab": {},
    "colab_type": "code",
    "id": "YJGEDfVjLDHb"
   },
   "outputs": [],
   "source": [
    "# Cari method yang dapat digunakan pada objek RedCircle\n",
    "\n",
    "dir(RedCircle)"
   ]
  },
  {
   "cell_type": "markdown",
   "metadata": {
    "colab_type": "text",
    "id": "_YobJp5CLDHd"
   },
   "source": [
    "kita dapat lihat atribut data dari objek:"
   ]
  },
  {
   "cell_type": "code",
   "execution_count": 0,
   "metadata": {
    "colab": {},
    "colab_type": "code",
    "id": "DLkA-IWZLDHe"
   },
   "outputs": [],
   "source": [
    "# Print atribut objek radius\n",
    "\n",
    "RedCircle.radius"
   ]
  },
  {
   "cell_type": "code",
   "execution_count": 0,
   "metadata": {
    "colab": {},
    "colab_type": "code",
    "id": "_-Wvq_YRLDHg"
   },
   "outputs": [],
   "source": [
    "# Print atribut objek color\n",
    "\n",
    "RedCircle.color"
   ]
  },
  {
   "cell_type": "markdown",
   "metadata": {
    "colab_type": "text",
    "id": "ucKrV0bBLDHj"
   },
   "source": [
    " Kita dapat mengubah atribut data objek:"
   ]
  },
  {
   "cell_type": "code",
   "execution_count": 0,
   "metadata": {
    "colab": {},
    "colab_type": "code",
    "id": "6IoOT6Q5LDHk"
   },
   "outputs": [],
   "source": [
    "# Atur atribut objek radius\n",
    "\n",
    "RedCircle.radius = 1\n",
    "RedCircle.radius"
   ]
  },
  {
   "cell_type": "markdown",
   "metadata": {
    "colab_type": "text",
    "id": "oRN--sIxLDHm"
   },
   "source": [
    " Kita dapat menggambark objek dengan menggunakan method <code>drawCircle()</code>:"
   ]
  },
  {
   "cell_type": "code",
   "execution_count": 0,
   "metadata": {
    "colab": {},
    "colab_type": "code",
    "id": "6YgJ_ACMLDHo"
   },
   "outputs": [],
   "source": [
    "# Panggil method drawCircle\n",
    "\n",
    "RedCircle.drawCircle()"
   ]
  },
  {
   "cell_type": "markdown",
   "metadata": {
    "colab_type": "text",
    "id": "N1Rtt1jzLDHt"
   },
   "source": [
    "Kita dapat menaikkan nika radius dari lingkaran dengan menerapkan method <code>add_radius()</code>. Coba naikkan radius dengan 2, kemudian 5:"
   ]
  },
  {
   "cell_type": "code",
   "execution_count": 0,
   "metadata": {
    "colab": {},
    "colab_type": "code",
    "id": "6BhIK9sHLDHt"
   },
   "outputs": [],
   "source": [
    "# Gunakan method untuk mengubah atribut objek radius\n",
    "\n",
    "print('Radius of object:',RedCircle.radius)\n",
    "RedCircle.add_radius(2)\n",
    "print('Radius of object of after applying the method add_radius(2):',RedCircle.radius)\n",
    "RedCircle.add_radius(5)\n",
    "print('Radius of object of after applying the method add_radius(5):',RedCircle.radius)"
   ]
  },
  {
   "cell_type": "markdown",
   "metadata": {
    "colab_type": "text",
    "id": "GgSbATt4LDHx"
   },
   "source": [
    "  Buat sebuah lingkaran biru. Dengan warna default adalah biru, yang harus dilakukan adalah menentukan ilai radius:"
   ]
  },
  {
   "cell_type": "code",
   "execution_count": 0,
   "metadata": {
    "colab": {},
    "colab_type": "code",
    "id": "_sM3OQtrLDHy"
   },
   "outputs": [],
   "source": [
    "# Buat sebuah lingkaran biru dengan nilai radius yang diberikan\n",
    "\n",
    "BlueCircle = Circle(radius=100)"
   ]
  },
  {
   "cell_type": "markdown",
   "metadata": {
    "colab_type": "text",
    "id": "YF8zXy3GLDH9"
   },
   "source": [
    " Seperti sebelumnya, kita dapat akses atribut dari instance dari kelas yang dibuat dengan menggunakan notasi dot (titik):"
   ]
  },
  {
   "cell_type": "code",
   "execution_count": 0,
   "metadata": {
    "colab": {},
    "colab_type": "code",
    "id": "6Us35m4sLDH9"
   },
   "outputs": [],
   "source": [
    "# Print atribut objek radius\n",
    "\n",
    "BlueCircle.radius"
   ]
  },
  {
   "cell_type": "code",
   "execution_count": 0,
   "metadata": {
    "colab": {},
    "colab_type": "code",
    "id": "bXFWnMPiLDH_"
   },
   "outputs": [],
   "source": [
    "# Print atribut objek color\n",
    "\n",
    "BlueCircle.color"
   ]
  },
  {
   "cell_type": "markdown",
   "metadata": {
    "colab_type": "text",
    "id": "wFBTxsWxLDIC"
   },
   "source": [
    " Kita dapat menggambar objek dengan method <code>drawCircle()</code>:"
   ]
  },
  {
   "cell_type": "code",
   "execution_count": 0,
   "metadata": {
    "colab": {},
    "colab_type": "code",
    "id": "s3dSo3quLDID"
   },
   "outputs": [],
   "source": [
    "# Panggil method drawCircle\n",
    "\n",
    "BlueCircle.drawCircle()"
   ]
  },
  {
   "cell_type": "markdown",
   "metadata": {
    "colab_type": "text",
    "id": "YHm1PodELDIF"
   },
   "source": [
    "Bandingkan sudut x dan y dari gambar ke gambar untuk <code>RedCircle</code>; mereka berbeda."
   ]
  },
  {
   "cell_type": "markdown",
   "metadata": {
    "colab_type": "text",
    "id": "fyfptNcULDIG"
   },
   "source": [
    "<hr>"
   ]
  },
  {
   "cell_type": "markdown",
   "metadata": {
    "colab_type": "text",
    "id": "9jNIlARGLDIH"
   },
   "source": [
    "<h2 id=\"rect\">Kelas Persegi (Rectangle)</h2>"
   ]
  },
  {
   "cell_type": "markdown",
   "metadata": {
    "colab_type": "text",
    "id": "gvdE3IIFLDIH"
   },
   "source": [
    "Buat kelas rectangle dengan atribut height, width dan color. Kita hanya akan menambahkan method untuk menggambar objek tersebut:"
   ]
  },
  {
   "cell_type": "code",
   "execution_count": 0,
   "metadata": {
    "colab": {},
    "colab_type": "code",
    "id": "H_Cd-6dSLDII"
   },
   "outputs": [],
   "source": [
    "# Buat sebuah kelas Rectangle untuk membuat objek persegi\n",
    "\n",
    "class Rectangle(object):\n",
    "    \n",
    "    # Constructor\n",
    "    def __init__(self, width=2, height=3, color='r'):\n",
    "        self.height = height \n",
    "        self.width = width\n",
    "        self.color = color\n",
    "    \n",
    "    # Method\n",
    "    def drawRectangle(self):\n",
    "        plt.gca().add_patch(plt.Rectangle((0, 0), self.width, self.height ,fc=self.color))\n",
    "        plt.axis('scaled')\n",
    "        plt.show()"
   ]
  },
  {
   "cell_type": "markdown",
   "metadata": {
    "colab_type": "text",
    "id": "Mg9Se9VSLDIK"
   },
   "source": [
    "Buat objek <code>SkinnyBlueRectangle</code> dari Rectangle. Width = 2 dan height = 3, dan color = biru:"
   ]
  },
  {
   "cell_type": "code",
   "execution_count": 0,
   "metadata": {
    "colab": {},
    "colab_type": "code",
    "id": "1KKJHuB9LDIL"
   },
   "outputs": [],
   "source": [
    "# Buat sebuah objek rectangle baru\n",
    "\n",
    "SkinnyBlueRectangle = Rectangle(2, 10, 'blue')"
   ]
  },
  {
   "cell_type": "markdown",
   "metadata": {
    "colab_type": "text",
    "id": "CQTHDDbrLDIN"
   },
   "source": [
    "  Seperti sebelumnya kita dapat akses atribut dari instance kelas dengan menggunakan notasi dot (titik):"
   ]
  },
  {
   "cell_type": "code",
   "execution_count": 0,
   "metadata": {
    "colab": {},
    "colab_type": "code",
    "id": "-7xmBN8wLDIO"
   },
   "outputs": [],
   "source": [
    "# Print atribut objek height\n",
    "\n",
    "SkinnyBlueRectangle.height "
   ]
  },
  {
   "cell_type": "code",
   "execution_count": 0,
   "metadata": {
    "colab": {},
    "colab_type": "code",
    "id": "GIchYFwDLDIR"
   },
   "outputs": [],
   "source": [
    "# Print atribut objek width\n",
    "\n",
    "SkinnyBlueRectangle.width"
   ]
  },
  {
   "cell_type": "code",
   "execution_count": 0,
   "metadata": {
    "colab": {},
    "colab_type": "code",
    "id": "53POVvQlLDIU"
   },
   "outputs": [],
   "source": [
    "# Print atribut objek color\n",
    "\n",
    "SkinnyBlueRectangle.color"
   ]
  },
  {
   "cell_type": "markdown",
   "metadata": {
    "colab_type": "text",
    "id": "_B05JxqMLDIX"
   },
   "source": [
    "  Kita dapat menggambar objek:"
   ]
  },
  {
   "cell_type": "code",
   "execution_count": 0,
   "metadata": {
    "colab": {},
    "colab_type": "code",
    "id": "q0qOHKV4LDIY",
    "scrolled": true
   },
   "outputs": [],
   "source": [
    "# Gunakan method drawRectangle untuk menggambar bentuknya\n",
    "\n",
    "SkinnyBlueRectangle.drawRectangle()"
   ]
  },
  {
   "cell_type": "markdown",
   "metadata": {
    "colab_type": "text",
    "id": "YObkwZGXLDIa"
   },
   "source": [
    "Buat objek <code>FatYellowRectangle</code> dari Rectangle:"
   ]
  },
  {
   "cell_type": "code",
   "execution_count": 0,
   "metadata": {
    "colab": {},
    "colab_type": "code",
    "id": "_7UJXQXULDIa"
   },
   "outputs": [],
   "source": [
    "# Buat objek rectangle baru\n",
    "\n",
    "FatYellowRectangle = Rectangle(20, 5, 'yellow')"
   ]
  },
  {
   "cell_type": "markdown",
   "metadata": {
    "colab_type": "text",
    "id": "PTQo2YdrLDId"
   },
   "source": [
    "  Kita dapat akses atribut dari instance kelas dengan menggunakan notasi dot (titik):"
   ]
  },
  {
   "cell_type": "code",
   "execution_count": 0,
   "metadata": {
    "colab": {},
    "colab_type": "code",
    "id": "N0aDBt3iLDIe"
   },
   "outputs": [],
   "source": [
    "# Print atribut objek height\n",
    "\n",
    "FatYellowRectangle.height "
   ]
  },
  {
   "cell_type": "code",
   "execution_count": 0,
   "metadata": {
    "colab": {},
    "colab_type": "code",
    "id": "AblKL78jLDIi"
   },
   "outputs": [],
   "source": [
    "# Print atribut objek width\n",
    "\n",
    "FatYellowRectangle.width"
   ]
  },
  {
   "cell_type": "code",
   "execution_count": 0,
   "metadata": {
    "colab": {},
    "colab_type": "code",
    "id": "z8Hg-bgZLDIl"
   },
   "outputs": [],
   "source": [
    "# Print atribut objek color\n",
    "\n",
    "FatYellowRectangle.color"
   ]
  },
  {
   "cell_type": "markdown",
   "metadata": {
    "colab_type": "text",
    "id": "h-PXguikLDIn"
   },
   "source": [
    "  Kita dapat gambar objek:"
   ]
  },
  {
   "cell_type": "code",
   "execution_count": 0,
   "metadata": {
    "colab": {},
    "colab_type": "code",
    "id": "2sFVmj6ELDIn"
   },
   "outputs": [],
   "source": [
    "# Gunakan method drawRectangle untuk menggambarkan bentuknya\n",
    "\n",
    "FatYellowRectangle.drawRectangle()"
   ]
  },
  {
   "cell_type": "markdown",
   "metadata": {
    "colab_type": "text",
    "id": "H1_L3bu-LDIq"
   },
   "source": [
    "<h3>About the Authors:</h3>  \n",
    "<p><a href=\"https://www.linkedin.com/in/joseph-s-50398b136/\" target=\"_blank\">Joseph Santarcangelo</a> is a Data Scientist at IBM, and holds a PhD in Electrical Engineering. His research focused on using Machine Learning, Signal Processing, and Computer Vision to determine how videos impact human cognition. Joseph has been working for IBM since he completed his PhD.</p>"
   ]
  },
  {
   "cell_type": "markdown",
   "metadata": {
    "colab_type": "text",
    "id": "u_haVc5hLDIr"
   },
   "source": [
    "Other contributors: <a href=\"www.linkedin.com/in/jiahui-mavis-zhou-a4537814a\">Mavis Zhou</a>"
   ]
  },
  {
   "cell_type": "markdown",
   "metadata": {
    "colab_type": "text",
    "id": "6v0Tt8t5LDIs"
   },
   "source": [
    "<hr>"
   ]
  },
  {
   "cell_type": "markdown",
   "metadata": {
    "colab_type": "text",
    "id": "BOyObHfdLDIs"
   },
   "source": [
    "<p>Copyright &copy; 2018 IBM Developer Skills Network. This notebook and its source code are released under the terms of the <a href=\"https://cognitiveclass.ai/mit-license/\">MIT License</a>.</p>"
   ]
  }
 ],
 "metadata": {
  "colab": {
   "collapsed_sections": [],
   "name": "Lab-Sesi9-4.ipynb",
   "provenance": [],
   "version": "0.3.2"
  },
  "kernelspec": {
   "display_name": "Python 3",
   "language": "python",
   "name": "python3"
  },
  "language_info": {
   "codemirror_mode": {
    "name": "ipython",
    "version": 3
   },
   "file_extension": ".py",
   "mimetype": "text/x-python",
   "name": "python",
   "nbconvert_exporter": "python",
   "pygments_lexer": "ipython3",
   "version": "3.7.4"
  }
 },
 "nbformat": 4,
 "nbformat_minor": 1
}
