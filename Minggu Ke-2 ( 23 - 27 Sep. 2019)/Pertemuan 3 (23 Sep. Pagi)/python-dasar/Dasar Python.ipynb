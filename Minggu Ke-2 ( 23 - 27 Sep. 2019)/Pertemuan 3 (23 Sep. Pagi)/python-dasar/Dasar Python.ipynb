{
 "cells": [
  {
   "cell_type": "markdown",
   "metadata": {},
   "source": [
    "![title](img/header.png)"
   ]
  },
  {
   "cell_type": "markdown",
   "metadata": {},
   "source": [
    "## Variabel"
   ]
  },
  {
   "cell_type": "markdown",
   "metadata": {},
   "source": [
    "Variabel pada python bersifat dinamis :\n",
    "    - Tidak perlu dideklarasikan tipe datanya\n",
    "    - Tipe data sebuah variabel dapat berubah-ubah\n",
    "### Tipe data angka :\n",
    "    - Integer : 1,2,3,5\n",
    "    - Float : 3.145, 2.2478\n",
    "    - Bilangan kompleks : 1.1+3.5j , 9.322e-36j\n",
    "    - Boolean : True, False"
   ]
  },
  {
   "cell_type": "code",
   "execution_count": 1,
   "metadata": {},
   "outputs": [
    {
     "name": "stdout",
     "output_type": "stream",
     "text": [
      "8.5\n",
      "True\n"
     ]
    }
   ],
   "source": [
    "a = 5\n",
    "b = 3.5\n",
    "c = a+b\n",
    "print(c)\n",
    "\n",
    "b1 = True\n",
    "b2 = False\n",
    "\n",
    "print(b1 and(b2 or b1))\n"
   ]
  },
  {
   "cell_type": "markdown",
   "metadata": {},
   "source": [
    "### Tipe Data Sekuensial\n",
    "    - String : 'Filkom UB','Informatika'\n",
    "    - List : [1,2,3,4,5], [25,'Filkom',9.32e-25j]\n",
    "    - Tuple : (1,2,5)\n",
    "    - Dictionary : {'nama':'andi', 'fakultas':'filkom'}"
   ]
  },
  {
   "cell_type": "code",
   "execution_count": 2,
   "metadata": {
    "collapsed": true
   },
   "outputs": [],
   "source": [
    "s1 = 'Filkom UB'\n",
    "l1 = [1,2,3,4,5]\n",
    "t1 = (1,2,5)\n",
    "d1 = {'nama':'andi', 'fakultas':'filkom'}"
   ]
  },
  {
   "cell_type": "markdown",
   "metadata": {},
   "source": [
    "#### Operasi String"
   ]
  },
  {
   "cell_type": "code",
   "execution_count": 3,
   "metadata": {},
   "outputs": [
    {
     "name": "stdout",
     "output_type": "stream",
     "text": [
      "F\n",
      "m\n"
     ]
    }
   ],
   "source": [
    "s1 = 'Filkom Brawijaya'\n",
    "#Karakter dapat diakses berdasarkan index \n",
    "print(s1[0])\n",
    "print(s1[5])"
   ]
  },
  {
   "cell_type": "code",
   "execution_count": 4,
   "metadata": {},
   "outputs": [
    {
     "name": "stdout",
     "output_type": "stream",
     "text": [
      "Filkom Brawijaya Malang\n"
     ]
    }
   ],
   "source": [
    "#Penggabungan dua string\n",
    "s2 = ' Malang'\n",
    "s3 = s1+s2\n",
    "print(s3)"
   ]
  },
  {
   "cell_type": "code",
   "execution_count": 5,
   "metadata": {},
   "outputs": [
    {
     "name": "stdout",
     "output_type": "stream",
     "text": [
      "Filkom Brawijaya 65145\n"
     ]
    }
   ],
   "source": [
    "#Penggabungan String dengan angka\n",
    "s4 = 65145\n",
    "s5 = s1 + ' ' + str(s4)\n",
    "print(s5)\n",
    "#Mengapa error?"
   ]
  },
  {
   "cell_type": "markdown",
   "metadata": {},
   "source": [
    "#### Operasi List"
   ]
  },
  {
   "cell_type": "code",
   "execution_count": 6,
   "metadata": {},
   "outputs": [
    {
     "name": "stdout",
     "output_type": "stream",
     "text": [
      "1\n",
      "Filkom\n",
      "10\n",
      "9\n"
     ]
    }
   ],
   "source": [
    "#Pengaksesan list berdasarkan index\n",
    "l1 = [1,2,3,'Filkom','UB',7,8,9,10]\n",
    "print(l1[0])\n",
    "print(l1[3])\n",
    "print(l1[-1])\n",
    "print(l1[-2])"
   ]
  },
  {
   "cell_type": "code",
   "execution_count": 7,
   "metadata": {},
   "outputs": [
    {
     "name": "stdout",
     "output_type": "stream",
     "text": [
      "[1, 2, 3]\n",
      "[2, 3, 'Filkom']\n",
      "['Filkom', 'UB', 7, 8, 9, 10]\n",
      "[1, 2, 3, 'Filkom', 'UB']\n"
     ]
    }
   ],
   "source": [
    "#list dapat diakses berdasarkan rentang index tertentu\n",
    "print(l1[0:3])\n",
    "print(l1[1:4])\n",
    "print(l1[3:])\n",
    "print(l1[:5])"
   ]
  },
  {
   "cell_type": "code",
   "execution_count": 8,
   "metadata": {},
   "outputs": [
    {
     "name": "stdout",
     "output_type": "stream",
     "text": [
      "[1, 2, 3, 'Fakultas Ilmu Komputer', 'UB', 7, 8, 9, 10]\n"
     ]
    }
   ],
   "source": [
    "#List bersifat dinamis, elemen tertentu dapat diganti nilainya\n",
    "l1[3]='Fakultas Ilmu Komputer'\n",
    "print(l1)"
   ]
  },
  {
   "cell_type": "code",
   "execution_count": 9,
   "metadata": {},
   "outputs": [
    {
     "name": "stdout",
     "output_type": "stream",
     "text": [
      "[1, 2, 3, 'Fakultas Ilmu Komputer', 'UB', 7, 8, 9, 10, 11]\n"
     ]
    }
   ],
   "source": [
    "#Elemen pada list dapat ditambah menggunakan fungsi append\n",
    "l1.append(11)\n",
    "print(l1)\n"
   ]
  },
  {
   "cell_type": "code",
   "execution_count": 10,
   "metadata": {},
   "outputs": [
    {
     "name": "stdout",
     "output_type": "stream",
     "text": [
      "[[1, 2, 3], [4, 5, 6], [7, 8, 9]]\n"
     ]
    }
   ],
   "source": [
    "# list dapat digunakan untuk membentuk array 2 dimensi\n",
    "l2 = [[1,2,3],[4,5,6],[7,8,9]]\n",
    "print(l2)"
   ]
  },
  {
   "cell_type": "markdown",
   "metadata": {},
   "source": [
    "#### Operasi Dictionary"
   ]
  },
  {
   "cell_type": "code",
   "execution_count": 11,
   "metadata": {},
   "outputs": [
    {
     "name": "stdout",
     "output_type": "stream",
     "text": [
      "8\n"
     ]
    }
   ],
   "source": [
    "#dictionary berisi pasangan key-value\n",
    "nilai = {'andi':8,'dina':9,'doni':7,'dinda':10}\n",
    "#dictionary diakses berdasarkan key\n",
    "print(nilai['andi'])"
   ]
  },
  {
   "cell_type": "markdown",
   "metadata": {},
   "source": [
    "## Operasi Aritmatika"
   ]
  },
  {
   "cell_type": "code",
   "execution_count": 12,
   "metadata": {},
   "outputs": [
    {
     "name": "stdout",
     "output_type": "stream",
     "text": [
      "7\n",
      "97.25\n",
      "61.625\n",
      "2.8\n",
      "153.86\n",
      "1\n"
     ]
    }
   ],
   "source": [
    "#penjumlahan\n",
    "print(5+2)\n",
    "#pengurangan\n",
    "print(100-2.75)\n",
    "#perkalian\n",
    "print(7.25*8.5)\n",
    "#pembagian\n",
    "print(7/2.5)\n",
    "#pemangkatan\n",
    "print(3.14*7**2)\n",
    "#modulo\n",
    "print(17%2)"
   ]
  },
  {
   "cell_type": "markdown",
   "metadata": {},
   "source": [
    "## Seleksi\n",
    "\n",
    "Struktur kondisional if\n",
    "\n",
    "    if kondisi1:\n",
    "        perintah1\n",
    "    elif kondisi2:\n",
    "        perintah2\n",
    "    elif kondisi3:\n",
    "        perintah3\n",
    "    else\n",
    "        perintah4"
   ]
  },
  {
   "cell_type": "code",
   "execution_count": 13,
   "metadata": {},
   "outputs": [
    {
     "name": "stdout",
     "output_type": "stream",
     "text": [
      "Bilangan negatif\n"
     ]
    }
   ],
   "source": [
    "angka = -5\n",
    "\n",
    "if angka>0:\n",
    "    print(\"Bilangan positif\")\n",
    "elif angka<0:\n",
    "    print(\"Bilangan negatif\")\n",
    "else:\n",
    "    print(\"Bilangan nol\")"
   ]
  },
  {
   "cell_type": "markdown",
   "metadata": {},
   "source": [
    "## Perulangan while\n",
    "\n",
    "Struktur perulangan while\n",
    "\n",
    "    while kondisi_bersifat_benar: \n",
    "    \n",
    "        perintah"
   ]
  },
  {
   "cell_type": "code",
   "execution_count": 14,
   "metadata": {},
   "outputs": [
    {
     "name": "stdout",
     "output_type": "stream",
     "text": [
      "Jumlah 10 bilangan pertama adalah 55\n"
     ]
    }
   ],
   "source": [
    "#menjumlahkan n bilangan pertama\n",
    "n = 10\n",
    "\n",
    "x=1\n",
    "jumlah = 0\n",
    "while x<=n:\n",
    "    jumlah = jumlah + x\n",
    "    x = x +1\n",
    "\n",
    "print(\"Jumlah %i bilangan pertama adalah %i\"%(n,jumlah))"
   ]
  },
  {
   "cell_type": "markdown",
   "metadata": {},
   "source": [
    "## Perulangan for\n",
    "\n",
    "Python mendukung beberapa model perulangan for\n",
    "\n",
    "Model 1 \n",
    "\n",
    "    for nilai in list:\n",
    "    \n",
    "        perintah\n",
    "    \n",
    "Model 2\n",
    "\n",
    "    for index in range(len(list))\n",
    "    \n",
    "        perintah"
   ]
  },
  {
   "cell_type": "code",
   "execution_count": 15,
   "metadata": {},
   "outputs": [
    {
     "name": "stdout",
     "output_type": "stream",
     "text": [
      "Jumlah angka pada list adalah 62\n"
     ]
    }
   ],
   "source": [
    "#Model 1\n",
    "# Menjumlahkan angka pada list\n",
    "list_angka = [1,2,3,5,7,8,9,12,15]\n",
    "\n",
    "jumlah = 0\n",
    "for angka in list_angka:\n",
    "    jumlah = jumlah + angka\n",
    "    \n",
    "print(\"Jumlah angka pada list adalah %i\"%(jumlah))"
   ]
  },
  {
   "cell_type": "code",
   "execution_count": 16,
   "metadata": {},
   "outputs": [
    {
     "name": "stdout",
     "output_type": "stream",
     "text": [
      "Jumlah angka pada list adalah 27\n"
     ]
    }
   ],
   "source": [
    "#Model 2\n",
    "# Menjumlahkan angka pada list dengan index ganjil\n",
    "list_angka = [1,2,3,5,7,8,9,12,15]\n",
    "\n",
    "jumlah = 0\n",
    "\n",
    "for index in range(len(list_angka)):\n",
    "    if index%2==1:\n",
    "        jumlah = jumlah + list_angka[index]\n",
    "print(\"Jumlah angka pada list adalah %i\"%(jumlah))"
   ]
  },
  {
   "cell_type": "markdown",
   "metadata": {},
   "source": [
    "## List comprehension\n",
    "\n",
    "List comprehension memungkinkan transformasi list menjadi list lainnya tanpa menggunakan perulangan secara eksplisit. Dapat pula ditambahkan filter untuk memilih elemen yang akan ditransformasi\n"
   ]
  },
  {
   "cell_type": "code",
   "execution_count": 17,
   "metadata": {},
   "outputs": [
    {
     "name": "stdout",
     "output_type": "stream",
     "text": [
      "[1, 4, 9, 25, 49, 64, 81, 144, 225]\n"
     ]
    }
   ],
   "source": [
    "#Membentuk list baru yang berisi kuadrat dari list lainnya\n",
    "list_kuadrat = [x**2 for x in list_angka]\n",
    "print(list_kuadrat)"
   ]
  },
  {
   "cell_type": "code",
   "execution_count": 18,
   "metadata": {},
   "outputs": [
    {
     "name": "stdout",
     "output_type": "stream",
     "text": [
      "[4, 64, 144]\n"
     ]
    }
   ],
   "source": [
    "#Membentuk list baru yang berisi kuadrat dari list lainnya, hanya untuk elemen yang genap saja\n",
    "list_kuadrat_genap = [x**2 for x in list_angka if x % 2 ==0]\n",
    "print(list_kuadrat_genap)"
   ]
  },
  {
   "cell_type": "markdown",
   "metadata": {},
   "source": [
    "## Pembacaan berkas\n",
    "Alur pembacaan berkas :\n",
    "1. Buka berkas\n",
    "2. Operasi berkas (baca/tulis)\n",
    "3. Tutup berkas"
   ]
  },
  {
   "cell_type": "markdown",
   "metadata": {},
   "source": [
    "Cara pembukaan berkas :\n",
    "    \n",
    "    file_object = open(namafile,action)\n",
    "\n",
    "|Jenis Action|Arti                      |\n",
    "|------------|--------------------------|\n",
    "|r           |Baca berkas yang sudah ada|\n",
    "|w           |Simpan ke berkas. Jika berkas tidak ada, berkas akan dibuat|\n",
    "|a           |Tambahkan data ke akhir berkas|\n",
    "|r+           |Baca dan tulis ke berkas yang sudah ada|\n",
    "|w+           |Seperti 'a' namun akan membuat berkas terlebih dahulu jika tidak ada|"
   ]
  },
  {
   "cell_type": "code",
   "execution_count": 19,
   "metadata": {},
   "outputs": [
    {
     "name": "stdout",
     "output_type": "stream",
     "text": [
      "Bill Gates\tM\t32\tC++\n",
      "Guido van Rossum\tM\t26\tPython\n",
      "Linus Torvalds\tM\t72\tScala\n",
      "Marissa Ann Mayer\tF\t25\tPython\n",
      "Ginni Rometty\tF\t24\tC++\n",
      "\n"
     ]
    }
   ],
   "source": [
    "#baca berkas\n",
    "berkas = open('berkas1.txt','r')\n",
    "isi_berkas = berkas.read()\n",
    "berkas.close()\n",
    "\n",
    "print(isi_berkas)"
   ]
  },
  {
   "cell_type": "code",
   "execution_count": 20,
   "metadata": {
    "collapsed": true
   },
   "outputs": [],
   "source": [
    "#Tulis berkas\n",
    "berkas1 = open('berkas1.txt','r')\n",
    "berkas2 = open('berkas2.txt','r')\n",
    "\n",
    "isi_berkas1 = berkas1.read()\n",
    "isi_berkas2 = berkas2.read()\n",
    "\n",
    "berkas1.close()\n",
    "berkas2.close()\n",
    "\n",
    "isi_gabungan = isi_berkas1 + \"\\n\" + isi_berkas2\n",
    "\n",
    "berkas_tulis = open('berkas3.txt','w')\n",
    "berkas_tulis.write(isi_gabungan)\n",
    "berkas_tulis.close()"
   ]
  },
  {
   "cell_type": "markdown",
   "metadata": {},
   "source": [
    "## Fungsi\n",
    "\n",
    "Struktur fungsi \n",
    "\n",
    "    def nama_fungsi(param1,param2,....):\n",
    "        perintah\n",
    "        return return_value"
   ]
  },
  {
   "cell_type": "code",
   "execution_count": 21,
   "metadata": {
    "collapsed": true
   },
   "outputs": [],
   "source": [
    "def sum_list(list_input):\n",
    "    jumlah = 0\n",
    "    for angka in list_input:\n",
    "        jumlah+=angka\n",
    "    return jumlah"
   ]
  },
  {
   "cell_type": "code",
   "execution_count": 22,
   "metadata": {},
   "outputs": [
    {
     "name": "stdout",
     "output_type": "stream",
     "text": [
      "24\n"
     ]
    }
   ],
   "source": [
    "list = [1,2,3,5,6,7]\n",
    "jumlah = sum_list(list)\n",
    "print(jumlah)"
   ]
  },
  {
   "cell_type": "code",
   "execution_count": 23,
   "metadata": {
    "collapsed": true
   },
   "outputs": [],
   "source": [
    "def fibo_rekursif(n):  \n",
    "   if n <= 1:  \n",
    "       return n  \n",
    "   else:  \n",
    "       return(fibo_rekursif(n-1) + fibo_rekursif(n-2))  "
   ]
  },
  {
   "cell_type": "code",
   "execution_count": 24,
   "metadata": {},
   "outputs": [
    {
     "name": "stdout",
     "output_type": "stream",
     "text": [
      "Input banyak suku fibo? 5\n",
      "Hasil deret Fibonacci:\n",
      "0\n",
      "1\n",
      "1\n",
      "2\n",
      "3\n"
     ]
    }
   ],
   "source": [
    "# Input banyak suku fibo \n",
    "nsuku = int(input(\"Input banyak suku fibo? \"))  \n",
    "\n",
    "# cek bahwa suku yang dimasukkan benar \n",
    "if nsuku <= 0:  \n",
    "   print(\"Input bilangan bulat positif\")  \n",
    "else:  \n",
    "   print(\"Hasil deret Fibonacci:\")  \n",
    "   for i in range(nsuku):  \n",
    "       print(fibo_rekursif(i))  "
   ]
  },
  {
   "cell_type": "code",
   "execution_count": 25,
   "metadata": {
    "collapsed": true
   },
   "outputs": [],
   "source": [
    "def fibo_nonrekursif(n):\n",
    "    a,b = 0,1\n",
    "    for i in range(n):\n",
    "        a,b = b, a+b\n",
    "    return a"
   ]
  },
  {
   "cell_type": "code",
   "execution_count": 26,
   "metadata": {},
   "outputs": [
    {
     "name": "stdout",
     "output_type": "stream",
     "text": [
      "tampilkan deret fibo ke-1 sampai ke-n:\n",
      "0\n",
      "1\n",
      "1\n",
      "2\n",
      "3\n",
      "\n",
      "tampilkan deret fibo ke-5:  5\n"
     ]
    }
   ],
   "source": [
    "print('tampilkan deret fibo ke-1 sampai ke-n:')\n",
    "for i in range(5):  \n",
    "       print(fibo_nonrekursif(i))  \n",
    "\n",
    "# tampilkan deret fibo ke-n\n",
    "print()\n",
    "print('tampilkan deret fibo ke-5: ',fibo_nonrekursif(5))"
   ]
  },
  {
   "cell_type": "code",
   "execution_count": 27,
   "metadata": {},
   "outputs": [
    {
     "name": "stdout",
     "output_type": "stream",
     "text": [
      "[0, 1, 1, 2, 3, 5, 8, 13, 21, 34]\n"
     ]
    }
   ],
   "source": [
    "#fibonacci dengan list (n=10)\n",
    "n=10\n",
    "angka_fibo = [0, 1]\n",
    "for i in range(2,n):\n",
    "    angka_fibo.append(angka_fibo[i-1]+angka_fibo[i-2])\n",
    "\n",
    "#tampilkan deret fibo\n",
    "print (angka_fibo)"
   ]
  },
  {
   "cell_type": "markdown",
   "metadata": {
    "collapsed": true
   },
   "source": [
    "![title](img/thumbs-up.png)"
   ]
  },
  {
   "cell_type": "code",
   "execution_count": null,
   "metadata": {
    "collapsed": true
   },
   "outputs": [],
   "source": []
  }
 ],
 "metadata": {
  "kernelspec": {
   "display_name": "Python 3",
   "language": "python",
   "name": "python3"
  },
  "language_info": {
   "codemirror_mode": {
    "name": "ipython",
    "version": 3
   },
   "file_extension": ".py",
   "mimetype": "text/x-python",
   "name": "python",
   "nbconvert_exporter": "python",
   "pygments_lexer": "ipython3",
   "version": "3.6.3"
  }
 },
 "nbformat": 4,
 "nbformat_minor": 2
}
