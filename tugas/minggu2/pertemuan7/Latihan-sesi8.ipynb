{
 "cells": [
  {
   "cell_type": "code",
   "execution_count": 4,
   "metadata": {},
   "outputs": [
    {
     "name": "stdout",
     "output_type": "stream",
     "text": [
      "7.810249675906654\n"
     ]
    }
   ],
   "source": [
    "import math\n",
    "\n",
    "def akar(a, b):\n",
    "    return math.sqrt(a**2 + b**2)\n",
    "\n",
    "print (akar(5, 6))"
   ]
  },
  {
   "cell_type": "code",
   "execution_count": 5,
   "metadata": {
    "scrolled": true
   },
   "outputs": [
    {
     "data": {
      "text/plain": [
       "'10 is greater than 5'"
      ]
     },
     "execution_count": 5,
     "metadata": {},
     "output_type": "execute_result"
    }
   ],
   "source": [
    "def compare(num1, num2):\n",
    "    if (num1 > num2):\n",
    "        return f'{num1} is greater than {num2}'\n",
    "    else:\n",
    "        return f'{num1} is less than {num2}'\n",
    "\n",
    "compare(10, 5)"
   ]
  },
  {
   "cell_type": "code",
   "execution_count": 6,
   "metadata": {},
   "outputs": [
    {
     "name": "stdout",
     "output_type": "stream",
     "text": [
      "angka pertama : 10\n",
      "angka kedua : 2\n",
      "pilih operator (+, -, *, /) : /\n",
      "\n",
      "10 / 2 = 5.0\n"
     ]
    }
   ],
   "source": [
    "def calc(): \n",
    "    op1 = int(input('angka pertama : ')) \n",
    "    op2 = int(input('angka kedua : ')) \n",
    "    opt = input('pilih operator (+, -, *, /) : ') \n",
    "    res = 0\n",
    "\n",
    "    if (opt == '+') : res = op1 + op2\n",
    "    elif (opt == '-'): res = op1 - op2\n",
    "    elif (opt == '*'): res = op1 * op2\n",
    "    elif (opt == '/'): res = op1 / op2\n",
    "\n",
    "    print(f'\\n{op1} {opt} {op2} = {res}')\n",
    "    \n",
    "calc()"
   ]
  },
  {
   "cell_type": "code",
   "execution_count": null,
   "metadata": {},
   "outputs": [],
   "source": []
  },
  {
   "cell_type": "code",
   "execution_count": null,
   "metadata": {},
   "outputs": [],
   "source": []
  },
  {
   "cell_type": "code",
   "execution_count": null,
   "metadata": {},
   "outputs": [],
   "source": []
  }
 ],
 "metadata": {
  "kernelspec": {
   "display_name": "conda_python3",
   "language": "python",
   "name": "conda_python3"
  },
  "language_info": {
   "codemirror_mode": {
    "name": "ipython",
    "version": 3
   },
   "file_extension": ".py",
   "mimetype": "text/x-python",
   "name": "python",
   "nbconvert_exporter": "python",
   "pygments_lexer": "ipython3",
   "version": "3.6.5"
  }
 },
 "nbformat": 4,
 "nbformat_minor": 2
}
