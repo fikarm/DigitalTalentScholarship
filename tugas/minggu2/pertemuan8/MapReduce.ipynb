{
 "cells": [
  {
   "cell_type": "code",
   "execution_count": 1,
   "metadata": {},
   "outputs": [],
   "source": [
    "import os\n",
    "import json\n",
    "import requests\n",
    "import random"
   ]
  },
  {
   "cell_type": "markdown",
   "metadata": {},
   "source": [
    "<br><h1>#Node</h1>"
   ]
  },
  {
   "cell_type": "code",
   "execution_count": 18,
   "metadata": {},
   "outputs": [],
   "source": [
    "'''node class'''\n",
    "class Node:\n",
    "    def __init__(self, id):\n",
    "        self.id = id\n",
    "        self.datas = []\n",
    "        \n",
    "    def put(self, datas):\n",
    "        self.datas.extend(datas)\n",
    "    \n",
    "    def sum(self, function):\n",
    "        return function(self.datas)"
   ]
  },
  {
   "cell_type": "markdown",
   "metadata": {},
   "source": [
    "<br><h1>#Algorithm</h1>"
   ]
  },
  {
   "cell_type": "code",
   "execution_count": 14,
   "metadata": {},
   "outputs": [],
   "source": [
    "'''algorithm for node to sum all data they have'''\n",
    "def aggregate(city_ids):\n",
    "    return sum(city_ids)\n",
    "\n",
    "\n",
    "'''distributing data to available nodes'''\n",
    "def map(datas, nodes):\n",
    "    \n",
    "    n_node = len(nodes)\n",
    "    n_data = len(datas)\n",
    "    \n",
    "    start = 0\n",
    "    stop  = 0\n",
    "\n",
    "    if n_data > n_node:\n",
    "        \n",
    "        chunk  = int(n_data / n_node)\n",
    "        \n",
    "        for node in nodes:\n",
    "            start = stop\n",
    "            stop += chunk\n",
    "            node.put(datas[start:stop])\n",
    "            \n",
    "\n",
    "    j = 0\n",
    "    for i in range(stop, n_data):\n",
    "        nodes[j].put([datas[i]])\n",
    "        j += 1\n",
    "        \n",
    "\n",
    "'''totalling node's sum result'''\n",
    "def reduce(nodes):\n",
    "    total = 0\n",
    "    for node in nodes:\n",
    "        total += node.sum(aggregate)\n",
    "        \n",
    "    return total"
   ]
  },
  {
   "cell_type": "markdown",
   "metadata": {},
   "source": [
    "<br><h1>#Execute</h1>"
   ]
  },
  {
   "cell_type": "code",
   "execution_count": 17,
   "metadata": {},
   "outputs": [
    {
     "name": "stdout",
     "output_type": "stream",
     "text": [
      "> Input\n"
     ]
    },
    {
     "name": "stdin",
     "output_type": "stream",
     "text": [
      "\tjumlah data:  4\n",
      "\tjumlah node:  1\n"
     ]
    },
    {
     "name": "stdout",
     "output_type": "stream",
     "text": [
      "\n",
      "> Generating 1 node ... done!\n",
      "\n",
      "\n",
      "> Preparing 4 random data ... done!\n",
      "\n",
      "\n",
      "> distributing data ... done!\n",
      "\n",
      "\n",
      "> reducing data ... done!\n",
      "\n",
      "\n",
      "> AVERAGE: 10.00\n"
     ]
    }
   ],
   "source": [
    "print(\"--- Map Reduce Simulation: Average of Numbers ---\\n\")\n",
    "\n",
    "\n",
    "# get input\n",
    "print('> Input')\n",
    "n_data = int(input('\\tjumlah data: '))\n",
    "n_node = int(input('\\tjumlah node: '))\n",
    "print()\n",
    "\n",
    "\n",
    "# generate nodes\n",
    "print(f'> Generating {n_node} node ...', end=' ')\n",
    "nodes = [Node(f'node-{i}') for i in range(n_node)]\n",
    "print('done!\\n')\n",
    "\n",
    "\n",
    "# generate random data\n",
    "print(f'\\n> Preparing {n_data} random data ...', end=' ')\n",
    "datas = [ random.randint(100,1001) for i in range(10) ]\n",
    "datas = [10, 10, 10, 10]\n",
    "print('done!\\n')\n",
    "\n",
    "\n",
    "# mapping data to nodes\n",
    "print('\\n> distributing data ...', end=' ')\n",
    "map(datas, nodes)\n",
    "print('done!\\n')\n",
    "\n",
    "\n",
    "# joining node result\n",
    "print('\\n> reducing data ...', end=' ')\n",
    "total = reduce(nodes)\n",
    "print('done!\\n')\n",
    "\n",
    "\n",
    "# calculating average\n",
    "print('\\n> AVERAGE: %.2f' % (total/n_data))"
   ]
  },
  {
   "cell_type": "code",
   "execution_count": null,
   "metadata": {},
   "outputs": [],
   "source": []
  }
 ],
 "metadata": {
  "kernelspec": {
   "display_name": "Python 3",
   "language": "python",
   "name": "python3"
  },
  "language_info": {
   "codemirror_mode": {
    "name": "ipython",
    "version": 3
   },
   "file_extension": ".py",
   "mimetype": "text/x-python",
   "name": "python",
   "nbconvert_exporter": "python",
   "pygments_lexer": "ipython3",
   "version": "3.7.3"
  }
 },
 "nbformat": 4,
 "nbformat_minor": 4
}
