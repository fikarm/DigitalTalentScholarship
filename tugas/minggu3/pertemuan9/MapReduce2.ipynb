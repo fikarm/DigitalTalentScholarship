{
 "cells": [
  {
   "cell_type": "code",
   "execution_count": null,
   "metadata": {},
   "outputs": [],
   "source": [
    "import os\n",
    "import gzip\n",
    "import json\n",
    "import requests"
   ]
  },
  {
   "cell_type": "markdown",
   "metadata": {},
   "source": [
    "<br><h1>#Dataset</h1>"
   ]
  },
  {
   "cell_type": "code",
   "execution_count": 2,
   "metadata": {},
   "outputs": [],
   "source": [
    "# city dataset\n",
    "url = 'http://bulk.openweathermap.org/sample/city.list.min.json.gz'\n",
    "cities_gz = url.split(\"/\")[-1]"
   ]
  },
  {
   "cell_type": "code",
   "execution_count": 3,
   "metadata": {},
   "outputs": [
    {
     "name": "stdout",
     "output_type": "stream",
     "text": [
      "downloading\n"
     ]
    }
   ],
   "source": [
    "# download json if not exists\n",
    "if not os.path.isfile(cities_gz):\n",
    "    print('downloading')\n",
    "    with open(cities_gz, \"wb\") as f:\n",
    "        r = requests.get(url)\n",
    "        f.write(r.content)\n",
    "else:\n",
    "    print('downloaded!')"
   ]
  },
  {
   "cell_type": "code",
   "execution_count": 42,
   "metadata": {},
   "outputs": [],
   "source": [
    "# extract gz and store at cities_json variable\n",
    "with gzip.open(cities_gz, \"rb\") as f:\n",
    "    cities_json = json.loads(f.read().decode(\"utf-8\"))"
   ]
  },
  {
   "cell_type": "code",
   "execution_count": null,
   "metadata": {},
   "outputs": [],
   "source": [
    "print('total city in the world: ', len(cities_json))"
   ]
  },
  {
   "cell_type": "markdown",
   "metadata": {},
   "source": [
    "<br>"
   ]
  },
  {
   "cell_type": "markdown",
   "metadata": {},
   "source": [
    "<br><h1>#Node</h1>"
   ]
  },
  {
   "cell_type": "code",
   "execution_count": 1,
   "metadata": {},
   "outputs": [],
   "source": [
    "'''node class'''\n",
    "class Node:\n",
    "    def __init__(self, id):\n",
    "        self.id = id\n",
    "        self.datas = []\n",
    "        \n",
    "    def put(self, datas):\n",
    "        self.datas.extend(datas)\n",
    "    \n",
    "    def sum(self, function):\n",
    "        return function(self.datas)"
   ]
  },
  {
   "cell_type": "markdown",
   "metadata": {},
   "source": [
    "<br><h1>#Algorithm</h1>"
   ]
  },
  {
   "cell_type": "code",
   "execution_count": 2,
   "metadata": {},
   "outputs": [],
   "source": [
    "'''algorithm for node to sum all data they have'''\n",
    "def aggregate(city_ids):\n",
    "    total = 0\n",
    "    apikey = '133559c63e055b23b0dd2dafc698fcfe'\n",
    "    endpoint = \"http://api.openweathermap.org/data/2.5/weather\"\n",
    "\n",
    "    for city in city_ids:\n",
    "        response  = requests.get(endpoint, params={'id': city, 'APPID': apikey, 'units': 'metric'})\n",
    "        json = response.json()\n",
    "        total += json['main']['temp']\n",
    "\n",
    "    return total\n",
    "\n",
    "\n",
    "'''distributing data to available nodes'''\n",
    "def map(datas, nodes):\n",
    "    \n",
    "    n_node = len(nodes)\n",
    "    n_data = len(datas)\n",
    "    \n",
    "    start = 0\n",
    "    stop  = 0\n",
    "\n",
    "    if n_data > n_node:\n",
    "        \n",
    "        chunk  = int(n_data / n_node)\n",
    "        \n",
    "        for node in nodes:\n",
    "            start = stop\n",
    "            stop += chunk\n",
    "            node.put(datas[start:stop])\n",
    "            \n",
    "\n",
    "    j = 0\n",
    "    for i in range(stop, n_data):\n",
    "        nodes[j].put([datas[i]])\n",
    "        j += 1\n",
    "        \n",
    "\n",
    "'''totalling node's sum result'''\n",
    "def reduce(nodes):\n",
    "    total = 0\n",
    "    for node in nodes:\n",
    "        total += node.sum(aggregate)\n",
    "        \n",
    "    return total"
   ]
  },
  {
   "cell_type": "markdown",
   "metadata": {},
   "source": [
    "<br><h1>#Execute</h1>"
   ]
  },
  {
   "cell_type": "code",
   "execution_count": null,
   "metadata": {},
   "outputs": [],
   "source": [
    "print(\"--- Map Reduce Simulation: Average Earth's Temperature in Celcius ---\\n\")\n",
    "\n",
    "# get input\n",
    "print('> Input')\n",
    "n_city = int(input('\\tnumber of city: '))\n",
    "n_node = int(input('\\tnumber of node: '))\n",
    "print()\n",
    "\n",
    "# generate nodes \n",
    "print(f'> Generating {n_node} node ...', end=' ')\n",
    "nodes = [ Node(f'node-{i}') for i in range(n_node) ]\n",
    "print('done!\\n')\n",
    "\n",
    "\n",
    "# get city's ids\n",
    "print(f'\\n> Preparing {n_city} data ...', end=' ')\n",
    "cities = [city['id'] for city in cities_json[:n_city]]\n",
    "print('done!\\n')\n",
    "\n",
    "\n",
    "# mapping data to nodes\n",
    "print('\\n> distributing data ...', end=' ')\n",
    "map(cities, nodes)\n",
    "print('done!\\n')\n",
    "\n",
    "\n",
    "# joining node result\n",
    "print('\\n> reducing data ...', end=' ')\n",
    "total = reduce(nodes)\n",
    "print('done!\\n')\n",
    "\n",
    "\n",
    "# calculating average\n",
    "print('\\n> EARTH\\'S TEMPERATURE: %.2f°C' % (total/n_city))"
   ]
  },
  {
   "cell_type": "code",
   "execution_count": null,
   "metadata": {},
   "outputs": [],
   "source": []
  }
 ],
 "metadata": {
  "kernelspec": {
   "display_name": "Python 3",
   "language": "python",
   "name": "python3"
  },
  "language_info": {
   "codemirror_mode": {
    "name": "ipython",
    "version": 3
   },
   "file_extension": ".py",
   "mimetype": "text/x-python",
   "name": "python",
   "nbconvert_exporter": "python",
   "pygments_lexer": "ipython3",
   "version": "3.7.3"
  }
 },
 "nbformat": 4,
 "nbformat_minor": 4
}
