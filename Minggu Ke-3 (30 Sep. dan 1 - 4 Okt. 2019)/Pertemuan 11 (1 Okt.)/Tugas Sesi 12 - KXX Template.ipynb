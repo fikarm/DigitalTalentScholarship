{
 "cells": [
  {
   "cell_type": "markdown",
   "metadata": {},
   "source": [
    "<h1 style=\"text-align: center;\">Tugas Sesi 12</h1>\n",
    "<table>\n",
    "<tbody>\n",
    "<table>\n",
    "<tbody>\n",
    "<tr>\n",
    "<td style=\"text-align: left;\">Nama Ketua Kelompok</td>\n",
    "<td style=\"text-align: left;\">:</td>\n",
    "<td style=\"text-align: left;\">Nama</td>\n",
    "</tr>\n",
    "<tr>\n",
    "<td style=\"text-align: left;\">Nama Anggota 1</td>\n",
    "<td style=\"text-align: left;\">:</td>\n",
    "<td style=\"text-align: left;\">Nama</td>\n",
    "</tr>\n",
    "<tr>\n",
    "<td style=\"text-align: left;\">Nama Anggota 2</td>\n",
    "<td style=\"text-align: left;\">:</td>\n",
    "<td style=\"text-align: left;\">Nama</td>\n",
    "</tr>\n",
    "<tr>\n",
    "<td style=\"text-align: left;\">Data yang Diambil</td>\n",
    "<td style=\"text-align: left;\">:</td>\n",
    "<td style=\"text-align: left;\">10 Besar Penyakit di RSUD KELET Rawat Inap</td>\n",
    "</tr>\n",
    "</tbody>\n",
    "</table>\n",
    "<p>&nbsp;</p>\n",
    "\n",
    "Cari data di satu data Indonesia\n",
    "Ambil satu halaman HTML untuk unduh data, contoh halaman :\n",
    "https://data.go.id/dataset/10-besar-penyakit-di-rsud-kelet-rawat-inap-januari-tahun-2018/resource/3657e053-e0fc-41fd-94e3-cb530e5c9a02"
   ]
  },
  {
   "cell_type": "code",
   "execution_count": null,
   "metadata": {},
   "outputs": [],
   "source": [
    "#import library yang dibutuhkan, urllib, BeautifulSoup, ssl, dan pandas\n"
   ]
  },
  {
   "cell_type": "code",
   "execution_count": null,
   "metadata": {},
   "outputs": [],
   "source": [
    "# library beautifulSoup digunakan untuk mencari address link untuk mengunduh data\n",
    "# ===============================================================================\n",
    "\n",
    "#Tuliskan variabel link untuk menyimpan halaman yang akan diambil CSV\n",
    "link = \n",
    "\n",
    "#tambahkan ssl.SSLContext() jika menggunakan HTTPS\n",
    "# dokumentasi --> https://stackoverflow.com/questions/27835619/urllib-and-ssl-certificate-verify-failed-error\n",
    "gcontext = ssl.SSLContext()\n",
    "\n",
    "#gunakan urllib.request.urlopen dengan parameter link dan context (jika memakai HTTPS)\n",
    "response = urllib.request.urlopen(link,context = gcontext)\n",
    "\n",
    "#simpan hasil pengambilan data HMTL dengan .read()\n",
    "\n",
    "\n",
    "# parse hasil pengambilan data HTML dengan BeautifulSoup\n",
    "\n",
    "\n",
    "# tampilkan isi dan type dari hasil parse\n"
   ]
  },
  {
   "cell_type": "code",
   "execution_count": null,
   "metadata": {},
   "outputs": [],
   "source": [
    "# cari link download .csv berdasarkan tag nya\n",
    "# hint --> link selalu pada tag \"a\" dan cek di inspect element ada pada attribute apa\n",
    "# cek https://www.crummy.com/software/BeautifulSoup/bs4/doc/ \n",
    "# \"the keywords arguments\"\n",
    "\n",
    "\n",
    "#print hasil pencarian dengan beautifulSoup dan typenya dan ukurannya (gunakan len)\n",
    "\n",
    "\n",
    "# perhatikan tipe data\n",
    "\n",
    "# ambil link dengan attribut ['href'] dari hasil pencarian sebelumnya\n",
    "# cek http://www.compjour.org/warmups/govt-text-releases/intro-to-bs4-lxml-parsing-wh-press-briefings/#finding-multiple-elements-with-findall\n",
    "\n",
    "\n",
    "#simpan link csv pada suatu variabel\n"
   ]
  },
  {
   "cell_type": "code",
   "execution_count": null,
   "metadata": {},
   "outputs": [],
   "source": [
    "# lakukan pembacaan csv dengan read_csv dengan parameter link csv yang sudah disimpan sebelumnya\n",
    "\n"
   ]
  },
  {
   "cell_type": "code",
   "execution_count": null,
   "metadata": {},
   "outputs": [],
   "source": [
    "# tampilkan semua data\n",
    "\n",
    "\n",
    "# tampilkan data csv untuk index baris 1 sampai 2 dan untuk kolom tertentu\n"
   ]
  }
 ],
 "metadata": {
  "kernelspec": {
   "display_name": "Python 3",
   "language": "python",
   "name": "python3"
  },
  "language_info": {
   "codemirror_mode": {
    "name": "ipython",
    "version": 3
   },
   "file_extension": ".py",
   "mimetype": "text/x-python",
   "name": "python",
   "nbconvert_exporter": "python",
   "pygments_lexer": "ipython3",
   "version": "3.7.3"
  }
 },
 "nbformat": 4,
 "nbformat_minor": 2
}
