{
 "cells": [
  {
   "cell_type": "code",
   "execution_count": 1,
   "metadata": {},
   "outputs": [],
   "source": [
    "import numpy as np"
   ]
  },
  {
   "cell_type": "code",
   "execution_count": 169,
   "metadata": {},
   "outputs": [
    {
     "name": "stdin",
     "output_type": "stream",
     "text": [
      "> jumlah data:  10\n",
      "> jumlah node:  5\n"
     ]
    }
   ],
   "source": [
    "# get input\n",
    "n_data = int(input('> jumlah data: '))\n",
    "n_node = int(input('> jumlah node: '))"
   ]
  },
  {
   "cell_type": "code",
   "execution_count": 170,
   "metadata": {},
   "outputs": [
    {
     "name": "stdout",
     "output_type": "stream",
     "text": [
      "[997 766 119 765 671 408 113 954 804 627]\n",
      "average:  622.4\n"
     ]
    }
   ],
   "source": [
    "# generate data pendapatan dalam dollar\n",
    "pendapatan = np.random.randint(low=100, high=1000, size=n_data)\n",
    "\n",
    "# '''debug''' \n",
    "# pendapatan = [10, 10, 10, 10, 2]\n",
    "print(pendapatan)\n",
    "print('average: ', sum(pendapatan)/len(pendapatan))"
   ]
  },
  {
   "cell_type": "code",
   "execution_count": 171,
   "metadata": {},
   "outputs": [
    {
     "name": "stdout",
     "output_type": "stream",
     "text": [
      "slave-0\n",
      "slave-1\n",
      "slave-2\n",
      "slave-3\n",
      "slave-4\n"
     ]
    }
   ],
   "source": [
    "# define computer nodes\n",
    "class Node:\n",
    "    def __init__(self, id):\n",
    "        self.id = id\n",
    "        self.sum = 0\n",
    "        self.datas = []\n",
    "    \n",
    "    def put(self, data):\n",
    "        self.datas.extend(data) #TODO: extend kurang optimal\n",
    "    \n",
    "    def sumup(self):\n",
    "        self.sum = np.sum(self.datas)\n",
    "    \n",
    "# generate slave nodes\n",
    "slaves = [Node(f'slave-{k}') for k in range(n_node)]\n",
    "\n",
    "'''debug'''\n",
    "for s in slaves:\n",
    "    print(s.id)"
   ]
  },
  {
   "cell_type": "code",
   "execution_count": 172,
   "metadata": {},
   "outputs": [
    {
     "name": "stdout",
     "output_type": "stream",
     "text": [
      "step:  2\n",
      "i: 0 slave-0  -> [ 0 : 2 ] -> sum:  1763\n",
      "i: 1 slave-1  -> [ 2 : 4 ] -> sum:  884\n",
      "i: 2 slave-2  -> [ 4 : 6 ] -> sum:  1079\n",
      "i: 3 slave-3  -> [ 6 : 8 ] -> sum:  1067\n",
      "i: 4 slave-4  -> [ 8 : 10 ] -> sum:  1431\n"
     ]
    }
   ],
   "source": [
    "# mapping\n",
    "step  = int(n_data / n_node)\n",
    "start = 0\n",
    "stop  = 0\n",
    "\n",
    "'''debug'''\n",
    "print('step: ', step)\n",
    "\n",
    "for i, slave in enumerate(slaves):\n",
    "    \n",
    "    start = stop\n",
    "    stop += step\n",
    "    \n",
    "    slave.put( pendapatan[start:stop] ) \n",
    "    slave.sumup()   \n",
    "    \n",
    "    print('i:', i, slave.id, ' -> [', start, ':', stop, '] -> sum: ', slave.sum)\n",
    "    \n",
    "    \n",
    "slaves[0].put(pendapatan[stop:n_data])\n",
    "slaves[0].sumup()\n",
    "# print('slave[0] -> ',pendapatan[stop:n_data],'[', stop, ':', n_data, '] -> sum: ', slave.sum)"
   ]
  },
  {
   "cell_type": "code",
   "execution_count": 173,
   "metadata": {},
   "outputs": [
    {
     "name": "stdout",
     "output_type": "stream",
     "text": [
      "6224\n"
     ]
    }
   ],
   "source": [
    "# reducing\n",
    "reduce = 0\n",
    "for slave in slaves:\n",
    "    reduce += slave.sum\n",
    "    \n",
    "print(reduce)"
   ]
  },
  {
   "cell_type": "code",
   "execution_count": 174,
   "metadata": {},
   "outputs": [
    {
     "name": "stdout",
     "output_type": "stream",
     "text": [
      "result:  622.4\n"
     ]
    }
   ],
   "source": [
    "# averaging\n",
    "print('result: ', reduce / n_data)"
   ]
  }
 ],
 "metadata": {
  "kernelspec": {
   "display_name": "Python 3",
   "language": "python",
   "name": "python3"
  },
  "language_info": {
   "codemirror_mode": {
    "name": "ipython",
    "version": 3
   },
   "file_extension": ".py",
   "mimetype": "text/x-python",
   "name": "python",
   "nbconvert_exporter": "python",
   "pygments_lexer": "ipython3",
   "version": "3.7.3"
  }
 },
 "nbformat": 4,
 "nbformat_minor": 4
}
