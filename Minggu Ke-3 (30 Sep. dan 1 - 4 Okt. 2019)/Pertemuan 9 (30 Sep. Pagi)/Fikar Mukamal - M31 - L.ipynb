{
 "cells": [
  {
   "cell_type": "code",
   "execution_count": 1,
   "metadata": {},
   "outputs": [],
   "source": [
    "class Rapor:\n",
    "    def __init__(self, nama, list_nilai):\n",
    "        self.nama = nama\n",
    "        self.list_nilai = list_nilai\n",
    "        \n",
    "    def nilai_rerata(self):\n",
    "        return sum(self.list_nilai) / len(self.list_nilai)\n",
    "        \n",
    "    def nilai_terkecil(self):\n",
    "        return min(self.list_nilai)\n",
    "        \n",
    "    def nilai_terbesar(self):\n",
    "        return max(self.list_nilai)"
   ]
  },
  {
   "cell_type": "code",
   "execution_count": 2,
   "metadata": {},
   "outputs": [
    {
     "name": "stdout",
     "output_type": "stream",
     "text": [
      "===== RAPOR =====\n",
      "Nama           :  Fikar Mukamal\n",
      "Nilai          :  [95, 92, 81, 75, 83]\n",
      "Nilai rerata   :  85.2\n",
      "Nilai terkecil :  75\n",
      "Nilai terbesar :  95\n"
     ]
    }
   ],
   "source": [
    "rapor_fikar = Rapor('Fikar Mukamal', [95, 92, 81, 75, 83])\n",
    "\n",
    "print('===== RAPOR =====')\n",
    "print('Nama           : ', rapor_fikar.nama)\n",
    "print('Nilai          : ', rapor_fikar.list_nilai)\n",
    "print('Nilai rerata   : ', rapor_fikar.nilai_rerata())\n",
    "print('Nilai terkecil : ', rapor_fikar.nilai_terkecil())\n",
    "print('Nilai terbesar : ', rapor_fikar.nilai_terbesar())"
   ]
  },
  {
   "cell_type": "code",
   "execution_count": null,
   "metadata": {},
   "outputs": [],
   "source": []
  }
 ],
 "metadata": {
  "kernelspec": {
   "display_name": "Python 3",
   "language": "python",
   "name": "python3"
  },
  "language_info": {
   "codemirror_mode": {
    "name": "ipython",
    "version": 3
   },
   "file_extension": ".py",
   "mimetype": "text/x-python",
   "name": "python",
   "nbconvert_exporter": "python",
   "pygments_lexer": "ipython3",
   "version": "3.7.3"
  }
 },
 "nbformat": 4,
 "nbformat_minor": 4
}
