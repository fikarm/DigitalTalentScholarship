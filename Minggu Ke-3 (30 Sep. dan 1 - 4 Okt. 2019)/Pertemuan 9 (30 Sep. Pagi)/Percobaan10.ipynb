{
 "cells": [
  {
   "cell_type": "code",
   "execution_count": 14,
   "metadata": {},
   "outputs": [],
   "source": [
    "class Rapor:\n",
    "    def __init__(self, nama, list_nilai):\n",
    "        self.nama = nama\n",
    "        self.list_nilai = list_nilai\n",
    "        \n",
    "    def nilai_rerata(self):\n",
    "        return sum(self.list_nilai) / len(self.list_nilai)\n",
    "        \n",
    "    def nilai_terkecil(self):\n",
    "        return min(self.list_nilai)\n",
    "        \n",
    "    def nilai_terbesar(self):\n",
    "        return max(self.list_nilai)"
   ]
  },
  {
   "cell_type": "code",
   "execution_count": null,
   "metadata": {},
   "outputs": [],
   "source": [
    "rapor_fikar = Rapor('Fikar Mukamal', [95, 92, 81, 75, 83])\n",
    "\n",
    "print('===== RAPOR =====')\n",
    "print('Nama           : ', rapor_fikar.nama)\n",
    "print('Nilai          : ', rapor_fikar.list_nilai)\n",
    "print('Nilai rerata   : ', rapor_fikar.nilai_rerata())\n",
    "print('Nilai terkecil : ', rapor_fikar.nilai_terkecil())\n",
    "print('Nilai terbesar : ', rapor_fikar.nilai_terbesar())"
   ]
  },
  {
   "cell_type": "code",
   "execution_count": null,
   "metadata": {},
   "outputs": [],
   "source": [
    "###############################\n",
    "# Function – Memanggil Fungsi #\n",
    "###############################"
   ]
  },
  {
   "cell_type": "code",
   "execution_count": null,
   "metadata": {},
   "outputs": [],
   "source": [
    "def sapa(nama):\n",
    "        \"\"\"Fungsi ini untuk menyapa seseorang sesuai nama yang dimasukkan sebagai parameter\"\"\"\n",
    "        print(\"Hi, \" + nama + \", Apa kabar?\")\n",
    "        \n",
    "#pemanggilan fungsi\n",
    "#output: Hi, Umar, Apa kabar?\n",
    "sapa('umar')\n",
    "\n",
    "sapa('Galih')\n",
    "\n",
    "sapa('Ratna')"
   ]
  },
  {
   "cell_type": "code",
   "execution_count": null,
   "metadata": {},
   "outputs": [],
   "source": [
    "###############################\n",
    "# Function –  Docstring       #\n",
    "###############################"
   ]
  },
  {
   "cell_type": "code",
   "execution_count": null,
   "metadata": {},
   "outputs": [],
   "source": [
    "print(sapa.__doc__)\n",
    "    \"\"\"Fungsi ini untuk menyapa seseorang sesuai nama yang dimasukkan sebagai parameter\"\"\""
   ]
  },
  {
   "cell_type": "code",
   "execution_count": null,
   "metadata": {},
   "outputs": [],
   "source": [
    "############################################\n",
    "# Function –  Pass by reference vs. value  #\n",
    "############################################"
   ]
  },
  {
   "cell_type": "code",
   "execution_count": null,
   "metadata": {},
   "outputs": [],
   "source": [
    "# Function definition is here\n",
    "def changeme( mylist ):\n",
    "    \"This changes a passed list into this function\"\n",
    "    mylist.append([1, 2, 3, 4])\n",
    "    print ()\"Values inside the function: \", mylist)\n",
    "    return\n",
    "\n",
    "# Now you can call changeme function\n",
    "mylist = [10, 20, 30]\n",
    "changeme(mylist)\n",
    "print (\"Values outside the function: \", mylist)"
   ]
  },
  {
   "cell_type": "code",
   "execution_count": null,
   "metadata": {},
   "outputs": [],
   "source": [
    "##################################\n",
    "# Function –  Required Arguments #\n",
    "##################################"
   ]
  },
  {
   "cell_type": "code",
   "execution_count": null,
   "metadata": {},
   "outputs": [],
   "source": [
    "#Function definition is here\n",
    "def printme(str):\n",
    "    \"This prints ap passed string into this function\"\n",
    "    print str\n",
    "    return\n",
    "\n",
    "# Now you can call printme function\n",
    "printme()"
   ]
  },
  {
   "cell_type": "code",
   "execution_count": null,
   "metadata": {},
   "outputs": [],
   "source": [
    "##################################\n",
    "# Function –  Keyword Arguments  #\n",
    "##################################"
   ]
  },
  {
   "cell_type": "code",
   "execution_count": null,
   "metadata": {},
   "outputs": [],
   "source": [
    "# Function definition is here\n",
    "def printinfo(name, age):\n",
    "    \"This prints a passed info into this function\"\n",
    "    print(\"Name\", name)\n",
    "    print(\"Age\", age)\n",
    "    return\n",
    "\n",
    "# Now you can call printinfo function\n",
    "printinfo(age=50, name=\"miki\")"
   ]
  },
  {
   "cell_type": "code",
   "execution_count": null,
   "metadata": {},
   "outputs": [],
   "source": [
    "##################################\n",
    "# Function –  Default Arguments  #\n",
    "##################################"
   ]
  },
  {
   "cell_type": "code",
   "execution_count": null,
   "metadata": {},
   "outputs": [],
   "source": [
    "# Function definition is here\n",
    "def printinfo(name, age = 35):\n",
    "    \"This prints a passed info into this function\"\n",
    "    print(\"Name\", name)\n",
    "    print(\"Age\", age)\n",
    "    return\n",
    "\n",
    "# Now you can call printinfo function\n",
    "printinfo(age=50, name=\"miki\")\n",
    "printinfo(name=\"miki\")"
   ]
  },
  {
   "cell_type": "code",
   "execution_count": null,
   "metadata": {},
   "outputs": [],
   "source": [
    "##########################################\n",
    "# Function –  Variable-length Arguments  #\n",
    "##########################################"
   ]
  },
  {
   "cell_type": "code",
   "execution_count": null,
   "metadata": {},
   "outputs": [],
   "source": [
    "# Function definition is here\n",
    "def printinfo(arg1, *vartuple):\n",
    "    \"This prints a variable passed arguments\"\n",
    "    print(\"Output is: \")\n",
    "    print(arg1)\n",
    "    for var in vartuple:\n",
    "        print var\n",
    "    return\n",
    "\n",
    "# Now you can cal printinfo function\n",
    "printinfo(10)\n",
    "printinfo(70, 60, 50)\n"
   ]
  },
  {
   "cell_type": "code",
   "execution_count": null,
   "metadata": {},
   "outputs": [],
   "source": [
    "##########################################\n",
    "# Function –  Global vs. Local Variables #\n",
    "##########################################"
   ]
  },
  {
   "cell_type": "code",
   "execution_count": null,
   "metadata": {},
   "outputs": [],
   "source": [
    "total = 0; # This is global variable.\n",
    "# Function definition is here\n",
    "def sum(arg1, arg2):\n",
    "    # Add both the parameters and return them.\n",
    "    total = arg1 + arg2 #Here total is local variable.\n",
    "    print(\"Inside the function local total: \", total)\n",
    "    return total\n",
    "\n",
    "# Now you can call sum function\n",
    "sum(10, 20)\n",
    "print(\"Outside the function global total: \", total)"
   ]
  },
  {
   "cell_type": "code",
   "execution_count": null,
   "metadata": {},
   "outputs": [],
   "source": [
    "###############################\n",
    "# Function –  Decision Making #\n",
    "###############################"
   ]
  },
  {
   "cell_type": "code",
   "execution_count": null,
   "metadata": {},
   "outputs": [],
   "source": [
    "var = 100\n",
    "if ( var == 100 ) : \n",
    "    print(\"Value of expression is 100\")\n",
    "print(\"Good bye!\")"
   ]
  },
  {
   "cell_type": "code",
   "execution_count": null,
   "metadata": {},
   "outputs": [],
   "source": [
    "##############################\n",
    "# Function –  Perulangan for #\n",
    "##############################"
   ]
  },
  {
   "cell_type": "code",
   "execution_count": null,
   "metadata": {},
   "outputs": [],
   "source": [
    "# Program untuk menemukan jumlah bilangan dalam satu list\n",
    "# List number\n",
    "numbers = [7, 5, 9, 8, 4, 2, 6, 4, 1]\n",
    "\n",
    "# variable untuk menyimpan jumlah\n",
    "sum = 0\n",
    "\n",
    "# iterasi\n",
    "for each in numbers:\n",
    "    sum = sum + each\n",
    "\n",
    "# Output: Jumlah semuanya: 46\n",
    "print(\"Jumlah semuanya: \", sum)"
   ]
  },
  {
   "cell_type": "code",
   "execution_count": null,
   "metadata": {},
   "outputs": [],
   "source": [
    "################################\n",
    "# Function –  Perulangan while #\n",
    "################################"
   ]
  },
  {
   "cell_type": "code",
   "execution_count": null,
   "metadata": {},
   "outputs": [],
   "source": [
    "count = 0\n",
    "while ( count < 5 ):\n",
    "    print('The count is: ', count)\n",
    "    count = count + 1\n",
    "print('Good bye!')"
   ]
  },
  {
   "cell_type": "code",
   "execution_count": null,
   "metadata": {},
   "outputs": [],
   "source": [
    "###############################\n",
    "# Function –  Kendali Looping #\n",
    "###############################"
   ]
  },
  {
   "cell_type": "code",
   "execution_count": null,
   "metadata": {},
   "outputs": [],
   "source": [
    "# contoh penggunaan statement break\n",
    "for letter in 'Programming':\n",
    "    if letter == 'g':\n",
    "        break\n",
    "    print('Huruf sekarang:', letter)\n",
    "print('Good bye')"
   ]
  },
  {
   "cell_type": "code",
   "execution_count": null,
   "metadata": {},
   "outputs": [],
   "source": [
    "##########################\n",
    "# Function –  while else #\n",
    "##########################"
   ]
  },
  {
   "cell_type": "code",
   "execution_count": null,
   "metadata": {},
   "outputs": [],
   "source": [
    "count = 0\n",
    "while (count < 5):\n",
    "    print(count, ' kurang dari 5')\n",
    "    count = count + 1\n",
    "else:\n",
    "    print(count, ' tidak kurang dari 5')"
   ]
  },
  {
   "cell_type": "code",
   "execution_count": null,
   "metadata": {},
   "outputs": [],
   "source": [
    "#####################\n",
    "# Function –  Class #\n",
    "#####################"
   ]
  },
  {
   "cell_type": "code",
   "execution_count": null,
   "metadata": {},
   "outputs": [],
   "source": [
    "class Employee:\n",
    "    'Common base class for all employees'\n",
    "    empCount = 0\n",
    "    \n",
    "    def __init__(self, name, salary):\n",
    "        self.name = name\n",
    "        self.salary = salary\n",
    "        Employee.empCount += 1\n",
    "    \n",
    "    def displayCount(self):\n",
    "        print (\"Total Employee %d\" % Employee.empCount)\n",
    "    \n",
    "    def displayEmployee(self):\n",
    "        print (\"Name : \", self.name, \", Salary: \", self.salary)"
   ]
  },
  {
   "cell_type": "code",
   "execution_count": null,
   "metadata": {},
   "outputs": [],
   "source": [
    "########################################\n",
    "# Function –  Membuat Instance Objects #\n",
    "########################################"
   ]
  },
  {
   "cell_type": "code",
   "execution_count": null,
   "metadata": {},
   "outputs": [],
   "source": [
    "\"This would create first object of Employee class\"\n",
    "emp1 = Employee(\"Zara\", 2000)\n",
    "\"This would create second object of Employee class\"\n",
    "emp2 = Employee(\"Manni\", 5000)"
   ]
  },
  {
   "cell_type": "code",
   "execution_count": null,
   "metadata": {},
   "outputs": [],
   "source": [
    "emp1.displayEmployee()\n",
    "emp2.displayEmployee()\n",
    "print (\"Total Employee %d\" % Employee.empCount)"
   ]
  },
  {
   "cell_type": "code",
   "execution_count": null,
   "metadata": {},
   "outputs": [],
   "source": [
    "###################################\n",
    "# Function –  Contoh Program Lain #\n",
    "###################################"
   ]
  },
  {
   "cell_type": "code",
   "execution_count": null,
   "metadata": {},
   "outputs": [],
   "source": [
    "class Car:\n",
    "    color = 'black'\n",
    "    transmission = 'manual'\n",
    "    \n",
    "    def __init__(self, transmission):\n",
    "        self.transmission = transmission\n",
    "        print('Engine is ready!')\n",
    "        \n",
    "    def drive(self):\n",
    "        print('Drive')\n",
    "        \n",
    "    def reverse(self):\n",
    "        print('Reverse. Please check your behind.')        "
   ]
  },
  {
   "cell_type": "code",
   "execution_count": null,
   "metadata": {},
   "outputs": [],
   "source": [
    "###################\n",
    "# Python – Method #\n",
    "###################"
   ]
  },
  {
   "cell_type": "code",
   "execution_count": null,
   "metadata": {},
   "outputs": [],
   "source": [
    "gear_position = 'N'\n",
    "\n",
    "def change_gear(self, gear='N'):\n",
    "    self.gear_position = gear\n",
    "    print('Gear position on: ', self.gear_position)\n",
    "    \n",
    "self.change_gear()\n",
    "self.change_gear('R')"
   ]
  },
  {
   "cell_type": "code",
   "execution_count": null,
   "metadata": {},
   "outputs": [],
   "source": [
    "#########################\n",
    "# Python –  Constructor #\n",
    "#########################"
   ]
  },
  {
   "cell_type": "code",
   "execution_count": null,
   "metadata": {},
   "outputs": [],
   "source": [
    "class Car:\n",
    "    color = 'black'\n",
    "    transmission = 'manual'\n",
    "    \n",
    "    def __init__(self, transmission):\n",
    "        self.transmission = transmission\n",
    "        print('Engine is ready!')\n",
    "\n",
    "honda = Car('automatic')"
   ]
  },
  {
   "cell_type": "code",
   "execution_count": null,
   "metadata": {},
   "outputs": [],
   "source": [
    "####################\n",
    "# Python –  Object #\n",
    "####################"
   ]
  },
  {
   "cell_type": "code",
   "execution_count": null,
   "metadata": {},
   "outputs": [],
   "source": [
    "class Car:\n",
    "    color = 'black'\n",
    "    transmission = 'manual'\n",
    "    gear_position = 'N'\n",
    "    \n",
    "    def __init__(self, transmission):\n",
    "        self.transmission = transmission\n",
    "        print('Engine is ready!')\n",
    "        \n",
    "    def drive(self):\n",
    "        self.gear_position = 'D'\n",
    "        print('Drive')\n",
    "        \n",
    "    def reverse(self):\n",
    "        self.gear_position = 'N'\n",
    "        print('Reverse. Please check your behind.')\n",
    "        \n",
    "    def change_gear(self, gear='N'):\n",
    "        self.gear_position = gear\n",
    "        print('Gear position on: ', self.gear_position)\n",
    "        \n",
    "    def get_gear_position(self):\n",
    "        return self.gear_position\n",
    "    \n",
    "car1 = Car('manual')\n",
    "car1.change_gear('D-1')\n",
    "\n",
    "car2 = Car('automatic')\n",
    "gear_position = car2.get_gear_position()\n",
    "print(gear_position)"
   ]
  },
  {
   "cell_type": "code",
   "execution_count": null,
   "metadata": {},
   "outputs": [],
   "source": [
    "#########################\n",
    "# Python –  Inheritance #\n",
    "#########################"
   ]
  },
  {
   "cell_type": "code",
   "execution_count": null,
   "metadata": {},
   "outputs": [],
   "source": [
    "class Tesla(Car):\n",
    "    pass # use 'pass' keyword to define class only\n",
    "\n",
    "tesla = Tesla()\n",
    "tesla.drive()"
   ]
  },
  {
   "cell_type": "code",
   "execution_count": null,
   "metadata": {},
   "outputs": [],
   "source": [
    "###############################\n",
    "# Python –  Method Overriding #\n",
    "###############################"
   ]
  },
  {
   "cell_type": "code",
   "execution_count": null,
   "metadata": {},
   "outputs": [],
   "source": [
    "class Tesla(Car):\n",
    "    def drive(self):\n",
    "        super().drive()\n",
    "        print('LOL Gas')"
   ]
  },
  {
   "cell_type": "code",
   "execution_count": null,
   "metadata": {},
   "outputs": [],
   "source": [
    "#####################################\n",
    "# Python – Private Attribute/Method #\n",
    "#####################################"
   ]
  },
  {
   "cell_type": "code",
   "execution_count": null,
   "metadata": {},
   "outputs": [],
   "source": [
    "__factory_number = '0123456789'\n",
    "\n",
    "def __get_factory_number(self):\n",
    "    return self.__factory_number"
   ]
  },
  {
   "cell_type": "code",
   "execution_count": null,
   "metadata": {},
   "outputs": [],
   "source": [
    "##########################\n",
    "# Python –  Polymorphism #\n",
    "##########################"
   ]
  },
  {
   "cell_type": "code",
   "execution_count": null,
   "metadata": {},
   "outputs": [],
   "source": [
    "class Car:\n",
    "    def fuel(self):\n",
    "        return 'gas'\n",
    "    \n",
    "class Honda:\n",
    "    pass\n",
    "\n",
    "class Tesla(Car):\n",
    "    def fuel(self):\n",
    "        return 'electricity'\n",
    "    \n",
    "def get_fuel(car):\n",
    "    print(car.fuel())\n",
    "    \n",
    "get_fuel(Tesla())\n",
    "get_fuel(Honda())"
   ]
  },
  {
   "cell_type": "code",
   "execution_count": null,
   "metadata": {},
   "outputs": [],
   "source": [
    "##################\n",
    "# Contoh Program #\n",
    "##################"
   ]
  },
  {
   "cell_type": "code",
   "execution_count": null,
   "metadata": {},
   "outputs": [],
   "source": [
    "# Fig 9.9: fig09_09.py\n",
    "# Creating a class hierarchy with an abstract base class\n",
    "class Employee:\n",
    "    \"\"\"Abstract base class Employee\"\"\"\n",
    "    \n",
    "    def __init__(self, first, last):\n",
    "        \"\"\"Employee constructor, takes first name and last name,\n",
    "        NOTE: Cannot create object of class Employee.\"\"\"\n",
    "        \n",
    "        if (self.__class__ = Employee):\n",
    "            raise NotImplementatedError, 'Cannot create object of class Employee'\n",
    "            \n",
    "        self.firstName = first\n",
    "        self.lastName = last\n",
    "        \n",
    "    def __str__(self):\n",
    "        \"\"\"String representation of Employee\"\"\"\n",
    "        \n",
    "        return '%s %s' % ( self.firstName, self.lastName)\n",
    "    \n",
    "    def _checkPositive(self,value):\n",
    "        \"\"\"Utility method to ensure a vlaue is positive\"\"\"\n",
    "        \n",
    "        if ( value < 0 ):\n",
    "            raise ValueError, 'Attribute balue (%d) must be positive' % value\n",
    "        else:\n",
    "            return value\n",
    "        \n",
    "    def earnings(self):\n",
    "        \"\"\"Abstract method, derived classes must override\"\"\"\n",
    "        \n",
    "        raise NotImplementatedError, 'Cannot call abstract method'    "
   ]
  },
  {
   "cell_type": "code",
   "execution_count": null,
   "metadata": {},
   "outputs": [],
   "source": [
    "class Boss(Employee):\n",
    "    \"\"\"Boss class, inherits from Employee\"\"\"\n",
    "    \n",
    "    def __init__(self, first, last, salary):\n",
    "        \"\"\"Boss constructor, takes first and last names and salary\"\"\"\n",
    "        \n",
    "        Employee.__init__(self, first, last)\n",
    "        self.weeklySalary = self._checkPositive(float(salary))\n",
    "        \n",
    "    def earnings(self):\n",
    "        \"\"\"Compute the Boss's pay\"\"\"\n",
    "        return self.weeklySalary\n",
    "    \n",
    "    def __str__(self):\n",
    "        \"\"\"String representation of Boss\"\"\"\n",
    "        return '%17s: %s' % ('Boss', Employee.__str__(self))"
   ]
  },
  {
   "cell_type": "code",
   "execution_count": null,
   "metadata": {},
   "outputs": [],
   "source": [
    "class CommissionWorker(Employee):\n",
    "    \"\"\"CommissionWorker class, inherits from Employee\"\"\"\n",
    "    \n",
    "    def__init__(self, first, last, salary, commission, quantity):\n",
    "        \"\"\"CommissionWorker constructor, takes first and last names, salary, commission and quantity\"\"\"\n",
    "        \n",
    "        Employee.__init__(self, first, last)\n",
    "        self.salary = self._checkPositive( float(salary) )\n",
    "        self.commission = self._checkPositive(float(commission))\n",
    "        self.quantity = self._checkPositive(quantity)\n",
    "        \n",
    "    def earnings(self):\n",
    "        \"\"\"Computes the CommissionWorker's pay\"\"\"\n",
    "        return self.salary + self.commission * self.quantity\n",
    "    \n",
    "    def __str__(self):\n",
    "        \"\"\"String representation of CommissionWorker\"\"\"\n",
    "        return '%17s: %s' % ('Commission Worker', Employee.__str__(self))"
   ]
  },
  {
   "cell_type": "code",
   "execution_count": null,
   "metadata": {},
   "outputs": [],
   "source": [
    "class PieceWorker(Employee):\n",
    "    \"\"\"PieceWorker class, inherits from Employee\"\"\"\n",
    "    \n",
    "    def __init__(self, first, last, wage, quantity):\n",
    "        \"\"\"PieceWorker constructor, takes first and last names, wage per piece, and quantity\"\"\"\n",
    "        \n",
    "        Employee.__init_(self, first, last)\n",
    "        self.wagePerPiece = self._checkPositive(float(wage))\n",
    "        self.quantity = self._checkPositive(quantity)\n",
    "        \n",
    "    def earnings(self):\n",
    "        \"\"\"Compute PieceWorker's pay\"\"\"\n",
    "        return self.quantity = self.wagePerPiece\n",
    "    \n",
    "    def __str__(self):\n",
    "        \"\"\"String representation of PieceWorker\"\"\"\n",
    "        \n",
    "        return '%17s: %s' % ('Piece Worker', Employee.__str__(self))"
   ]
  },
  {
   "cell_type": "code",
   "execution_count": null,
   "metadata": {},
   "outputs": [],
   "source": [
    "class HourlyWorker(Employee):\n",
    "    \"\"\"HourlyWorker class, inherits from Employee\"\"\"\n",
    "    \n",
    "    def __init__(self, first, last, wage, hours):\n",
    "        \"\"\"HourlyWorker constructor, takes first name and last names, wage per hour and hours worked\"\"\"\n",
    "        \n",
    "        Employee.__init__(self, first, last)\n",
    "        self.wage = self._checkPositive(float(wage))\n",
    "        self.hours = self._checkPositive(float(hours))\n",
    "        \n",
    "    def earnings(self):\n",
    "        \"\"\"Compute HourlyWorker's pay\"\"\"\n",
    "        if (self.hours <= 40):\n",
    "            return self.wage = self.hours\n",
    "        else:\n",
    "            return 40 * self.wage + (self.hours - 40) * self.wage * 1.5\n",
    "    \n",
    "    def __str__(self):\n",
    "        \"\"\"String representation of HourlyWorker\"\"\"\n",
    "        \n",
    "        return '%17s: %s' % ('Hourly Worker', Employee.__str__(self))"
   ]
  },
  {
   "cell_type": "code",
   "execution_count": null,
   "metadata": {},
   "outputs": [],
   "source": [
    "# main program\n",
    "\n",
    "# create list of Employees\n",
    "employees = [ Boss('John', 'Smith', 800.00),\n",
    "              CommissionWorker('Sue', 'Jones', 200.0, 3.0, 150),\n",
    "              PieceWorker('Bob', 'Lewis', 2.5, 200),\n",
    "              HourlyWorker('Karen', 'Price', 13.75, 40)]\n",
    "\n",
    "# Employee and compute earnings\n",
    "for employee in employees:\n",
    "    print '%s earned $%.2f' % (employee, employee.earnings())"
   ]
  },
  {
   "cell_type": "code",
   "execution_count": null,
   "metadata": {},
   "outputs": [],
   "source": []
  }
 ],
 "metadata": {
  "kernelspec": {
   "display_name": "Python 3",
   "language": "python",
   "name": "python3"
  },
  "language_info": {
   "codemirror_mode": {
    "name": "ipython",
    "version": 3
   },
   "file_extension": ".py",
   "mimetype": "text/x-python",
   "name": "python",
   "nbconvert_exporter": "python",
   "pygments_lexer": "ipython3",
   "version": "3.7.3"
  }
 },
 "nbformat": 4,
 "nbformat_minor": 4
}
